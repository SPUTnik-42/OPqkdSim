{
 "cells": [
  {
   "cell_type": "markdown",
   "metadata": {},
   "source": [
    "# Imports"
   ]
  },
  {
   "cell_type": "code",
   "execution_count": 1,
   "metadata": {},
   "outputs": [],
   "source": [
    "from OPqkdsim.channel import *\n",
    "from OPqkdsim.measure import *\n",
    "from OPqkdsim.polarization import *\n",
    "from OPqkdsim.source import *\n",
    "from OPqkdsim.timeline import *\n",
    "from OPqkdsim.random import *\n",
    "from OPqkdsim.classpostpro import *"
   ]
  },
  {
   "cell_type": "code",
   "execution_count": 2,
   "metadata": {},
   "outputs": [],
   "source": [
    "# Initialize Timeline\n",
    "\n",
    "timeline = Timeline()\n",
    "shots=10\n",
    "# Define bit lists and modulation lists\n",
    "rng = CRNG(method=\"crypto\")\n",
    "alice_bit_list = rng.generate_bits(shots)\n",
    "alice_modulation_list = rng.generate_basis(shots)\n",
    "bob_modulation_list = rng.generate_basis(shots)\n",
    "bob_bit_list = [] "
   ]
  },
  {
   "cell_type": "code",
   "execution_count": 3,
   "metadata": {},
   "outputs": [],
   "source": [
    "# Initialize Alice Components\n",
    "\n",
    "laser = DFBLaser(timeline, shots=shots)\n",
    "pc1 = PolarizationController(timeline)  # Alice's polarization control\n",
    "pm1 = AlicePolarizationModulator(timeline, modulation_list=alice_modulation_list, bit_list=alice_bit_list)\n",
    "attenuator = VariableOpticalAttenuator(timeline, attenuation_dB=60)  # Attenuates to single-photon level # why 60db ?\n",
    "\n",
    "# Quantum channel\n",
    "\n",
    "channel = QuantumChannel(timeline)  \n"
   ]
  },
  {
   "cell_type": "code",
   "execution_count": 4,
   "metadata": {},
   "outputs": [],
   "source": [
    "# Initialize Bob Components\n",
    "\n",
    "pc2 = PolarizationController(timeline, compensate=True)  # Bob's first polarization control\n",
    "pm2 = BobPolarizationModulator(timeline, modulation_list=bob_modulation_list)\n",
    "pc3 = PolarizationController(timeline)  # Final polarization correction\n",
    "\n",
    "# Create Detectors\n",
    "\n",
    "detector_HV = SinglePhotonDetector(timeline, name=\"Detector_H\", bit_list=bob_bit_list)\n",
    "#detector_V = SinglePhotonDetector(timeline, name=\"Detector_V\", bit_list=bob_bit_list)\n",
    "detector_D = SinglePhotonDetector(timeline, name=\"Detector_D+\", bit_list=bob_bit_list)\n",
    "#detector_D_minus = SinglePhotonDetector(timeline, name=\"Detector_D-\", bit_list=bob_bit_list)\n",
    "\n",
    "# Create PBS\n",
    "\n",
    "pbs = PolarizationBeamSplitter(timeline, detector_HV, detector_D, bob_modulation_list)\n"
   ]
  },
  {
   "cell_type": "code",
   "execution_count": 5,
   "metadata": {},
   "outputs": [],
   "source": [
    "# Connect Components Using Timeline’s Publish-Subscribe Model\n",
    "\n",
    "timeline.subscribe(laser, pc1.process_signal)\n",
    "timeline.subscribe(pc1, pm1.process_signal)\n",
    "timeline.subscribe(pm1, attenuator.process_signal)\n",
    "timeline.subscribe(attenuator, channel.propagate_signal)\n",
    "timeline.subscribe(channel, pc2.process_signal)\n",
    "timeline.subscribe(pc2, pm2.process_signal)\n",
    "timeline.subscribe(pm2, pc3.process_signal)\n",
    "timeline.subscribe(pc3, pbs.process_signal)\n",
    "timeline.subscribe(pbs, detector_HV.detect_photon)\n",
    "timeline.subscribe(pbs, detector_D.detect_photon)"
   ]
  },
  {
   "cell_type": "code",
   "execution_count": 6,
   "metadata": {},
   "outputs": [
    {
     "name": "stdout",
     "output_type": "stream",
     "text": [
      "[1.74034e+09 s] Pulse emitted at 1.55e-06 m, Power: 1.20000e-07 W, Shots left:10\n",
      "[1.74034e+09 s] Pulse emitted at 1.55e-06 m, Power: 1.20000e-07 W, Shots left:9\n",
      "[1.74034e+09 s] Polarization Adjusted: Ex=1.09631e-05, Ey=4.44409e-08\n",
      "[1.74034e+09 s] Pulse emitted at 1.55e-06 m, Power: 1.20000e-07 W, Shots left:8\n",
      "[1.74034e+09 s] Polarization Adjusted: Ex=1.09631e-05, Ey=4.44409e-08\n",
      "[1.74034e+09 s] Phase Modulated: Basis=1, Bit=0, φ=1.57080 rad\n",
      "[1.74034e+09 s] Pulse emitted at 1.55e-06 m, Power: 1.20000e-07 W, Shots left:7\n",
      "[1.74034e+09 s] Polarization Adjusted: Ex=1.09631e-05, Ey=4.44409e-08\n",
      "[1.74034e+09 s] Phase Modulated: Basis=1, Bit=0, φ=1.57080 rad\n",
      "[1.74034e+09 s] VOA applied 60.00000 dB attenuation. New Power: 1.20000e-13 W\n",
      "[1.74034e+09 s] Pulse emitted at 1.55e-06 m, Power: 1.20000e-07 W, Shots left:6\n",
      "[1.74034e+09 s] Polarization Adjusted: Ex=1.09631e-05, Ey=4.44409e-08\n",
      "[1.74034e+09 s] Phase Modulated: Basis=0, Bit=0, φ=0.00000 rad\n",
      "[1.74034e+09 s] VOA applied 60.00000 dB attenuation. New Power: 1.20000e-13 W\n",
      "[1.740e+09 s] Signal propagated: P_out=4.50e-51 W\n",
      "[1.74034e+09 s] Pulse emitted at 1.55e-06 m, Power: 1.20000e-07 W, Shots left:5\n",
      "[1.74034e+09 s] Polarization Adjusted: Ex=1.09631e-05, Ey=4.44409e-08\n",
      "[1.74034e+09 s] Phase Modulated: Basis=1, Bit=1, φ=-1.57080 rad\n",
      "[1.74034e+09 s] VOA applied 60.00000 dB attenuation. New Power: 1.20000e-13 W\n",
      "[1.740e+09 s] Signal propagated: P_out=4.50e-51 W\n",
      "[1.74034e+09 s] Polarization Adjusted: Ex=2.12310e-27, Ey=-2.11525e-30\n",
      "[1.74034e+09 s] Pulse emitted at 1.55e-06 m, Power: 1.20000e-07 W, Shots left:4\n",
      "[1.74034e+09 s] Polarization Adjusted: Ex=1.09631e-05, Ey=4.44409e-08\n",
      "[1.74034e+09 s] Phase Modulated: Basis=0, Bit=1, φ=3.14159 rad\n",
      "[1.74034e+09 s] VOA applied 60.00000 dB attenuation. New Power: 1.20000e-13 W\n",
      "[1.740e+09 s] Signal propagated: P_out=1.20e-18 W\n",
      "[1.74034e+09 s] Polarization Adjusted: Ex=2.12310e-27, Ey=-2.11525e-30\n",
      "[1.74034e+09 s] Basis: 0, Applied Phase Shift: 0.00000 rad\n",
      "[1.74034e+09 s] Pulse emitted at 1.55e-06 m, Power: 1.20000e-07 W, Shots left:3\n",
      "[1.74034e+09 s] Polarization Adjusted: Ex=1.09631e-05, Ey=4.44409e-08\n",
      "[1.74034e+09 s] Phase Modulated: Basis=1, Bit=0, φ=1.57080 rad\n",
      "[1.74034e+09 s] VOA applied 60.00000 dB attenuation. New Power: 1.20000e-13 W\n",
      "[1.740e+09 s] Signal propagated: P_out=4.50e-51 W\n",
      "[1.74034e+09 s] Polarization Adjusted: Ex=3.46729e-11, Ey=-3.45447e-14\n",
      "[1.74034e+09 s] Basis: 1, Applied Phase Shift: 0.78540 rad\n",
      "[1.74034e+09 s] Polarization Adjusted: Ex=2.12195e-27, Ey=-2.11410e-30\n",
      "[1.74034e+09 s] Pulse emitted at 1.55e-06 m, Power: 1.20000e-07 W, Shots left:2\n",
      "[1.74034e+09 s] Polarization Adjusted: Ex=1.09631e-05, Ey=4.44409e-08\n",
      "[1.74034e+09 s] Phase Modulated: Basis=1, Bit=0, φ=1.57080 rad\n",
      "[1.74034e+09 s] VOA applied 60.00000 dB attenuation. New Power: 1.20000e-13 W\n",
      "[1.740e+09 s] Signal propagated: P_out=1.20e-18 W\n",
      "[1.74034e+09 s] Polarization Adjusted: Ex=2.12310e-27, Ey=-2.11525e-30\n",
      "[1.74034e+09 s] Basis: 1, Applied Phase Shift: 0.78540 rad\n",
      "[1.74034e+09 s] Polarization Adjusted: Ex=2.12195e-27, Ey=-2.11410e-30\n",
      "[1.740e+09 s] PBS Output - Basis: 0, P_H: 4.50e-51 W, P_V: 4.47e-60 W\n",
      "[1.74034e+09 s] Pulse emitted at 1.55e-06 m, Power: 1.20000e-07 W, Shots left:1\n",
      "[1.74034e+09 s] Polarization Adjusted: Ex=1.09631e-05, Ey=4.44409e-08\n",
      "[1.74034e+09 s] Phase Modulated: Basis=1, Bit=0, φ=1.57080 rad\n",
      "[1.74034e+09 s] VOA applied 60.00000 dB attenuation. New Power: 1.20000e-13 W\n",
      "[1.740e+09 s] Signal propagated: P_out=4.50e-51 W\n",
      "[1.74034e+09 s] Polarization Adjusted: Ex=-3.46729e-11, Ey=3.45447e-14\n",
      "[1.74034e+09 s] Basis: 0, Applied Phase Shift: 0.00000 rad\n",
      "[1.74034e+09 s] Polarization Adjusted: Ex=3.46541e-11, Ey=-3.45259e-14\n",
      "[1.740e+09 s] PBS Output - P_D+: 2.25e-51 W, P_D-: 2.25e-51 W\n",
      "[1740338907.592730999 s] Detector_H: Photon missed. Pclick 0.6437823371136924 random 0.8261808361683944\n",
      "[1.74034e+09 s] Polarization Adjusted: Ex=1.09631e-05, Ey=4.44409e-08\n",
      "[1.74034e+09 s] Phase Modulated: Basis=1, Bit=1, φ=-1.57080 rad\n",
      "[1.74034e+09 s] VOA applied 60.00000 dB attenuation. New Power: 1.20000e-13 W\n",
      "[1.740e+09 s] Signal propagated: P_out=4.50e-51 W\n",
      "[1.74034e+09 s] Polarization Adjusted: Ex=2.12310e-27, Ey=-2.11525e-30\n",
      "[1.74034e+09 s] Basis: 0, Applied Phase Shift: 0.00000 rad\n",
      "[1.74034e+09 s] Polarization Adjusted: Ex=2.12195e-27, Ey=-2.11410e-30\n",
      "[1.740e+09 s] PBS Output - P_D+: 6.00e-19 W, P_D-: 6.00e-19 W\n",
      "[1740338907.950708389 s] Detector_D+: Photon detected! Pclick 0.6437823371136924 random 0.2629017697806395\n",
      "[1.74034e+09 s] Phase Modulated: Basis=1, Bit=0, φ=1.57080 rad\n",
      "[1.74034e+09 s] VOA applied 60.00000 dB attenuation. New Power: 1.20000e-13 W\n",
      "[1.740e+09 s] Signal propagated: P_out=4.50e-51 W\n",
      "[1.74034e+09 s] Polarization Adjusted: Ex=2.12310e-27, Ey=-2.11525e-30\n",
      "[1.74034e+09 s] Basis: 1, Applied Phase Shift: 0.78540 rad\n",
      "[1.74034e+09 s] Polarization Adjusted: Ex=-3.46541e-11, Ey=3.45259e-14\n",
      "[1.740e+09 s] PBS Output - Basis: 0, P_H: 4.50e-51 W, P_V: 4.47e-60 W\n",
      "[1740338908.292307854 s] Detector_D+: Photon missed. Pclick 0.03166356595359202 random 0.5230933233091938\n",
      "[1.74034e+09 s] VOA applied 60.00000 dB attenuation. New Power: 1.20000e-13 W\n",
      "[1.740e+09 s] Signal propagated: P_out=4.50e-51 W\n",
      "[1.74034e+09 s] Polarization Adjusted: Ex=2.12310e-27, Ey=-2.11525e-30\n",
      "[1.74034e+09 s] Basis: 0, Applied Phase Shift: 0.00000 rad\n",
      "[1.74034e+09 s] Polarization Adjusted: Ex=2.12195e-27, Ey=-2.11410e-30\n",
      "[1.740e+09 s] PBS Output - Basis: 0, P_H: 1.20e-18 W, P_V: 1.19e-27 W\n",
      "[1740338908.630467176 s] Detector_H: Photon missed. Pclick 0.0317 random 0.9758184651018327\n",
      "[1.740e+09 s] Signal propagated: P_out=4.50e-51 W\n",
      "[1.74034e+09 s] Polarization Adjusted: Ex=2.12310e-27, Ey=-2.11525e-30\n",
      "[1.74034e+09 s] Basis: 1, Applied Phase Shift: 0.78540 rad\n",
      "[1.74034e+09 s] Polarization Adjusted: Ex=2.12195e-27, Ey=-2.11410e-30\n",
      "[1.740e+09 s] PBS Output - P_D+: 2.25e-51 W, P_D-: 2.25e-51 W\n",
      "[1740338908.970475674 s] Detector_H: Photon detected! Pclick 0.6437823371136924 random 0.6184076166608091\n",
      "[1.74034e+09 s] Polarization Adjusted: Ex=2.12310e-27, Ey=-2.11525e-30\n",
      "[1.74034e+09 s] Basis: 1, Applied Phase Shift: 0.78540 rad\n",
      "[1.74034e+09 s] Polarization Adjusted: Ex=2.12195e-27, Ey=-2.11410e-30\n",
      "[1.740e+09 s] PBS Output - Basis: 0, P_H: 4.50e-51 W, P_V: 4.47e-60 W\n",
      "[1740338908.971546650 s] Detector_D+: Photon missed. Pclick 0.03166356595359202 random 0.13011861545508052\n",
      "[1.74034e+09 s] Basis: 1, Applied Phase Shift: 0.78540 rad\n",
      "[1.74034e+09 s] Polarization Adjusted: Ex=2.12195e-27, Ey=-2.11410e-30\n",
      "[1.740e+09 s] PBS Output - P_D+: 2.25e-51 W, P_D-: 2.25e-51 W\n",
      "[1740338908.972603321 s] Detector_H: Photon missed. Pclick 0.03166356595359202 random 0.8155014572866874\n",
      "[1.74034e+09 s] Polarization Adjusted: Ex=2.12195e-27, Ey=-2.11410e-30\n",
      "[1.740e+09 s] PBS Output - P_D+: 2.25e-51 W, P_D-: 2.25e-51 W\n",
      "[1740338908.973685503 s] Detector_D+: Photon missed. Pclick 0.03166356595359202 random 0.5583553730699635\n",
      "[1.740e+09 s] PBS Output - P_D+: 2.25e-51 W, P_D-: 2.25e-51 W\n",
      "[1740338908.974701166 s] Detector_D+: Photon missed. Pclick 0.03166356595359202 random 0.6502695365488051\n",
      "[1740338908.975759983 s] Detector_D+: Photon detected! Pclick 0.6437689337770601 random 0.6059817852679903\n"
     ]
    }
   ],
   "source": [
    "# Start Simulation by Emitting Light from the Laser\n",
    "laser.initialize_laser()\n",
    "timeline.execute_events()"
   ]
  },
  {
   "cell_type": "code",
   "execution_count": 7,
   "metadata": {},
   "outputs": [],
   "source": [
    "# matching_bits = []\n",
    "# for alice_basis, bob_basis, alice_bit, bob_bit in zip(alice_modulation_list, bob_modulation_list, alice_bit_list, bob_bit_list):\n",
    "#     if alice_basis == bob_basis:  # Matching bases\n",
    "#         matching_bits.append(alice_bit)\n",
    "\n",
    "# # Display Results\n",
    "# print(\"\\n--- BB84 Protocol Results ---\")\n",
    "# print(f\"Alice's Bits: {alice_bit_list}\")\n",
    "# print(f\"Alice's Bases: {alice_modulation_list}\")\n",
    "# print(f\"Bob's Bases: {bob_modulation_list}\")\n",
    "# print(f\"Bob's Received Bits: {bob_bit_list}\")\n",
    "# print(f\"Final Key (Matching Basis): {matching_bits}\")"
   ]
  },
  {
   "cell_type": "code",
   "execution_count": 12,
   "metadata": {},
   "outputs": [
    {
     "ename": "ValueError",
     "evalue": "matmul: dimension mismatch with signature (n,k=10),(k=6,1?)->(n,1?)",
     "output_type": "error",
     "traceback": [
      "\u001b[0;31m---------------------------------------------------------------------------\u001b[0m",
      "\u001b[0;31mValueError\u001b[0m                                Traceback (most recent call last)",
      "Cell \u001b[0;32mIn[12], line 3\u001b[0m\n\u001b[1;32m      1\u001b[0m key_length \u001b[38;5;241m=\u001b[39m \u001b[38;5;241m10\u001b[39m\u001b[38;5;241m*\u001b[39m\u001b[38;5;241m*\u001b[39m\u001b[38;5;241m1\u001b[39m\n\u001b[1;32m      2\u001b[0m er \u001b[38;5;241m=\u001b[39m lpdcER(key_length, code_rate\u001b[38;5;241m=\u001b[39m\u001b[38;5;241m0.8\u001b[39m)\n\u001b[0;32m----> 3\u001b[0m corrected_key \u001b[38;5;241m=\u001b[39m \u001b[43mer\u001b[49m\u001b[38;5;241;43m.\u001b[39;49m\u001b[43mreconcile\u001b[49m\u001b[43m(\u001b[49m\u001b[43m \u001b[49m\u001b[43mnp\u001b[49m\u001b[38;5;241;43m.\u001b[39;49m\u001b[43marray\u001b[49m\u001b[43m(\u001b[49m\u001b[43malice_bit_list\u001b[49m\u001b[43m)\u001b[49m\u001b[43m,\u001b[49m\u001b[43m \u001b[49m\u001b[43mnp\u001b[49m\u001b[38;5;241;43m.\u001b[39;49m\u001b[43marray\u001b[49m\u001b[43m(\u001b[49m\u001b[43malice_modulation_list\u001b[49m\u001b[43m)\u001b[49m\u001b[43m,\u001b[49m\u001b[43m \u001b[49m\n\u001b[1;32m      4\u001b[0m \u001b[43m                            \u001b[49m\u001b[43mnp\u001b[49m\u001b[38;5;241;43m.\u001b[39;49m\u001b[43marray\u001b[49m\u001b[43m(\u001b[49m\u001b[43mbob_bit_list\u001b[49m\u001b[43m)\u001b[49m\u001b[43m,\u001b[49m\u001b[43m \u001b[49m\u001b[43mnp\u001b[49m\u001b[38;5;241;43m.\u001b[39;49m\u001b[43marray\u001b[49m\u001b[43m(\u001b[49m\u001b[43mbob_modulation_list\u001b[49m\u001b[43m)\u001b[49m\u001b[43m)\u001b[49m\n\u001b[1;32m      5\u001b[0m \u001b[38;5;28mprint\u001b[39m(\u001b[38;5;124m\"\u001b[39m\u001b[38;5;124mFinal corrected_key :\u001b[39m\u001b[38;5;124m\"\u001b[39m, corrected_key)\n\u001b[1;32m      6\u001b[0m pa \u001b[38;5;241m=\u001b[39m UhashPA(output_length\u001b[38;5;241m=\u001b[39m\u001b[38;5;241m256\u001b[39m)\n",
      "File \u001b[0;32m~/Music/ProfKundu/qkd/OPqkdsim/classpostpro.py:82\u001b[0m, in \u001b[0;36mlpdcER.reconcile\u001b[0;34m(self, alice_bits, alice_bases, bob_bits, bob_bases)\u001b[0m\n\u001b[1;32m     79\u001b[0m alice_sifted, bob_sifted \u001b[38;5;241m=\u001b[39m \u001b[38;5;28mself\u001b[39m\u001b[38;5;241m.\u001b[39mmatch_bases(alice_bits, alice_bases, bob_bits, bob_bases)\n\u001b[1;32m     81\u001b[0m \u001b[38;5;66;03m# Encode Bob's key to generate parity bits\u001b[39;00m\n\u001b[0;32m---> 82\u001b[0m bob_parity \u001b[38;5;241m=\u001b[39m \u001b[38;5;28;43mself\u001b[39;49m\u001b[38;5;241;43m.\u001b[39;49m\u001b[43mencode_parity_bits\u001b[49m\u001b[43m(\u001b[49m\u001b[43mbob_sifted\u001b[49m\u001b[43m)\u001b[49m\n\u001b[1;32m     84\u001b[0m \u001b[38;5;66;03m# Alice corrects her key using the received parity bits\u001b[39;00m\n\u001b[1;32m     85\u001b[0m alice_corrected_key \u001b[38;5;241m=\u001b[39m \u001b[38;5;28mself\u001b[39m\u001b[38;5;241m.\u001b[39mdecode(alice_sifted, bob_parity)\n",
      "File \u001b[0;32m~/Music/ProfKundu/qkd/OPqkdsim/classpostpro.py:54\u001b[0m, in \u001b[0;36mlpdcER.encode_parity_bits\u001b[0;34m(self, key)\u001b[0m\n\u001b[1;32m     50\u001b[0m \u001b[38;5;28;01mdef\u001b[39;00m\u001b[38;5;250m \u001b[39m\u001b[38;5;21mencode_parity_bits\u001b[39m(\u001b[38;5;28mself\u001b[39m, key):\n\u001b[1;32m     51\u001b[0m \u001b[38;5;250m    \u001b[39m\u001b[38;5;124;03m\"\"\"\u001b[39;00m\n\u001b[1;32m     52\u001b[0m \u001b[38;5;124;03m    Computes parity bits for a given key using the parity-check matrix.\u001b[39;00m\n\u001b[1;32m     53\u001b[0m \u001b[38;5;124;03m    \"\"\"\u001b[39;00m\n\u001b[0;32m---> 54\u001b[0m     \u001b[38;5;28;01mreturn\u001b[39;00m (\u001b[38;5;28;43mself\u001b[39;49m\u001b[38;5;241;43m.\u001b[39;49m\u001b[43mparity_matrix\u001b[49m\u001b[43m \u001b[49m\u001b[38;5;241;43m@\u001b[39;49m\u001b[43m \u001b[49m\u001b[43mkey\u001b[49m) \u001b[38;5;241m%\u001b[39m \u001b[38;5;241m2\u001b[39m\n",
      "File \u001b[0;32m~/Music/ProfKundu/qkd/simqkd/lib/python3.12/site-packages/scipy/sparse/_base.py:731\u001b[0m, in \u001b[0;36m_spbase.__matmul__\u001b[0;34m(self, other)\u001b[0m\n\u001b[1;32m    728\u001b[0m \u001b[38;5;28;01mif\u001b[39;00m isscalarlike(other):\n\u001b[1;32m    729\u001b[0m     \u001b[38;5;28;01mraise\u001b[39;00m \u001b[38;5;167;01mValueError\u001b[39;00m(\u001b[38;5;124m\"\u001b[39m\u001b[38;5;124mScalar operands are not allowed, \u001b[39m\u001b[38;5;124m\"\u001b[39m\n\u001b[1;32m    730\u001b[0m                      \u001b[38;5;124m\"\u001b[39m\u001b[38;5;124muse \u001b[39m\u001b[38;5;124m'\u001b[39m\u001b[38;5;124m*\u001b[39m\u001b[38;5;124m'\u001b[39m\u001b[38;5;124m instead\u001b[39m\u001b[38;5;124m\"\u001b[39m)\n\u001b[0;32m--> 731\u001b[0m \u001b[38;5;28;01mreturn\u001b[39;00m \u001b[38;5;28;43mself\u001b[39;49m\u001b[38;5;241;43m.\u001b[39;49m\u001b[43m_matmul_dispatch\u001b[49m\u001b[43m(\u001b[49m\u001b[43mother\u001b[49m\u001b[43m)\u001b[49m\n",
      "File \u001b[0;32m~/Music/ProfKundu/qkd/simqkd/lib/python3.12/site-packages/scipy/sparse/_base.py:654\u001b[0m, in \u001b[0;36m_spbase._matmul_dispatch\u001b[0;34m(self, other)\u001b[0m\n\u001b[1;32m    651\u001b[0m \u001b[38;5;28;01mif\u001b[39;00m other\u001b[38;5;241m.\u001b[39mndim \u001b[38;5;241m==\u001b[39m \u001b[38;5;241m1\u001b[39m \u001b[38;5;129;01mor\u001b[39;00m other\u001b[38;5;241m.\u001b[39mndim \u001b[38;5;241m==\u001b[39m \u001b[38;5;241m2\u001b[39m \u001b[38;5;129;01mand\u001b[39;00m other\u001b[38;5;241m.\u001b[39mshape[\u001b[38;5;241m1\u001b[39m] \u001b[38;5;241m==\u001b[39m \u001b[38;5;241m1\u001b[39m:\n\u001b[1;32m    652\u001b[0m     \u001b[38;5;66;03m# dense row or column vector\u001b[39;00m\n\u001b[1;32m    653\u001b[0m     \u001b[38;5;28;01mif\u001b[39;00m other\u001b[38;5;241m.\u001b[39mshape[\u001b[38;5;241m0\u001b[39m] \u001b[38;5;241m!=\u001b[39m N:\n\u001b[0;32m--> 654\u001b[0m         \u001b[38;5;28;01mraise\u001b[39;00m \u001b[38;5;167;01mValueError\u001b[39;00m(\n\u001b[1;32m    655\u001b[0m             \u001b[38;5;124mf\u001b[39m\u001b[38;5;124m\"\u001b[39m\u001b[38;5;132;01m{\u001b[39;00merr_prefix\u001b[38;5;132;01m}\u001b[39;00m\u001b[38;5;124m (n,k=\u001b[39m\u001b[38;5;132;01m{\u001b[39;00mN\u001b[38;5;132;01m}\u001b[39;00m\u001b[38;5;124m),(k=\u001b[39m\u001b[38;5;132;01m{\u001b[39;00mother\u001b[38;5;241m.\u001b[39mshape[\u001b[38;5;241m0\u001b[39m]\u001b[38;5;132;01m}\u001b[39;00m\u001b[38;5;124m,1?)->(n,1?)\u001b[39m\u001b[38;5;124m\"\u001b[39m\n\u001b[1;32m    656\u001b[0m         )\n\u001b[1;32m    658\u001b[0m     result \u001b[38;5;241m=\u001b[39m \u001b[38;5;28mself\u001b[39m\u001b[38;5;241m.\u001b[39m_matmul_vector(np\u001b[38;5;241m.\u001b[39mravel(other))\n\u001b[1;32m    660\u001b[0m     \u001b[38;5;28;01mif\u001b[39;00m \u001b[38;5;28misinstance\u001b[39m(other, np\u001b[38;5;241m.\u001b[39mmatrix):\n",
      "\u001b[0;31mValueError\u001b[0m: matmul: dimension mismatch with signature (n,k=10),(k=6,1?)->(n,1?)"
     ]
    }
   ],
   "source": [
    "key_length = 10**1\n",
    "er = lpdcER(key_length, code_rate=0.8)\n",
    "corrected_key = er.reconcile( np.array(alice_bit_list), np.array(alice_modulation_list), \n",
    "                            np.array(bob_bit_list), np.array(bob_modulation_list))\n",
    "print(\"Final corrected_key :\", corrected_key)\n",
    "pa = UhashPA(output_length=256)\n",
    "secure_key = pa.amplify(corrected_key)\n",
    "\n",
    "print(\"Final secure key:\", secure_key)\n",
    "\n",
    "# QBER Calculation\n",
    "# qber_calculator = QBERCalculator(sifted_key_length=key_length, sample_bits=5000)\n",
    "# qber = qber_calculator.calculate_qber(alice_bit_list, bob_bit_list)\n",
    "# stat_error = qber_calculator.calculate_statistical_error()\n",
    "# approx_qber = qber_calculator.calculate_approximated_qber()\n",
    "\n",
    "# print(f\"QBER: {qber:.6f}, Statistical Error: {stat_error:.6f}, Approximated QBER: {approx_qber:.6f}\")\n"
   ]
  }
 ],
 "metadata": {
  "kernelspec": {
   "display_name": "simqkd",
   "language": "python",
   "name": "python3"
  },
  "language_info": {
   "codemirror_mode": {
    "name": "ipython",
    "version": 3
   },
   "file_extension": ".py",
   "mimetype": "text/x-python",
   "name": "python",
   "nbconvert_exporter": "python",
   "pygments_lexer": "ipython3",
   "version": "3.12.3"
  }
 },
 "nbformat": 4,
 "nbformat_minor": 2
}
