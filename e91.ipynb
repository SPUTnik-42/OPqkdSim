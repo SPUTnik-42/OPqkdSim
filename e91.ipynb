{
 "cells": [
  {
   "cell_type": "code",
   "execution_count": 1,
   "metadata": {},
   "outputs": [
    {
     "data": {
      "text/plain": [
       "'1.3.2'"
      ]
     },
     "execution_count": 1,
     "metadata": {},
     "output_type": "execute_result"
    }
   ],
   "source": [
    "import qiskit\n",
    "qiskit.__version__"
   ]
  },
  {
   "cell_type": "code",
   "execution_count": 2,
   "metadata": {},
   "outputs": [],
   "source": [
    "import numpy as np\n",
    "import re\n",
    "import random\n",
    "from qiskit import QuantumCircuit, ClassicalRegister, QuantumRegister\n",
    "from qiskit.primitives import StatevectorSampler\n",
    "import matplotlib.pyplot as plt\n",
    "from qiskit.visualization import plot_histogram"
   ]
  },
  {
   "cell_type": "code",
   "execution_count": 3,
   "metadata": {},
   "outputs": [],
   "source": [
    "numberOfSinglets = 16 # let alice and bob use 16 singlets for the key , bigger key better numeric results"
   ]
  },
  {
   "cell_type": "markdown",
   "metadata": {},
   "source": [
    "Now we need to prepapre to measure the state using three different basis state each for both alice and bob. A1, A2, A3 are for alice and B1,B2,B3 for bob"
   ]
  },
  {
   "cell_type": "code",
   "execution_count": 4,
   "metadata": {},
   "outputs": [],
   "source": [
    "def create_measurement_circuit(qr, cr, alice_choice, bob_choice):\n",
    "    circuit = QuantumCircuit(qr, cr)\n",
    "    \n",
    "    # Implement Alice's measurement based on random choice\n",
    "    if alice_choice == 1:  # measureA1\n",
    "        circuit.h(qr[0])\n",
    "    elif alice_choice == 2:  # measureA2\n",
    "        circuit.s(qr[0])\n",
    "        circuit.h(qr[0])\n",
    "        circuit.t(qr[0])\n",
    "        circuit.h(qr[0])\n",
    "    # alice_choice == 3 (measureA3) only needs measurement\n",
    "    \n",
    "    # Implement Bob's measurement based on random choice\n",
    "    if bob_choice == 1:  # measureB1\n",
    "        circuit.s(qr[1])\n",
    "        circuit.h(qr[1])\n",
    "        circuit.t(qr[1])\n",
    "        circuit.h(qr[1])\n",
    "    elif bob_choice == 3:  # measureB3\n",
    "        circuit.s(qr[1])\n",
    "        circuit.h(qr[1])\n",
    "        circuit.tdg(qr[1])\n",
    "        circuit.h(qr[1])\n",
    "    # bob_choice == 2 (measureB2) only needs measurement\n",
    "    \n",
    "    # Add measurements for both qubits\n",
    "    circuit.measure(qr[0], cr[0])\n",
    "    circuit.measure(qr[1], cr[1])\n",
    "    \n",
    "    return circuit"
   ]
  },
  {
   "cell_type": "code",
   "execution_count": 5,
   "metadata": {},
   "outputs": [],
   "source": [
    "aliceMeasurementChoices = [random.randint(1, 3) for i in range(numberOfSinglets)]\n",
    "bobMeasurementChoices = [random.randint(1, 3) for i in range(numberOfSinglets)]"
   ]
  },
  {
   "cell_type": "code",
   "execution_count": 6,
   "metadata": {},
   "outputs": [],
   "source": [
    "circuits = [] # combined circuit consisting of singlet and alice and bob's measurement in one of the three basis each\n",
    "\n",
    "for i in range(numberOfSinglets):\n",
    "    # Create the complete circuit\n",
    "    qr = QuantumRegister(2, name=\"qr\")\n",
    "    cr = ClassicalRegister(4, name=\"cr\")\n",
    "    circuitName = str(i) + ':A' + str(aliceMeasurementChoices[i]) + '_B' + str(bobMeasurementChoices[i]) #step 1: charlie prepares the singlet state\n",
    "    circuit = QuantumCircuit(qr, cr, name=circuitName)\n",
    "    circuit.x(qr[0])\n",
    "    circuit.x(qr[1])\n",
    "    circuit.h(qr[0])\n",
    "    circuit.cx(qr[0],qr[1])\n",
    "    # alice and bob's measurement according to basis\n",
    "    measurement_circuit = create_measurement_circuit(\n",
    "        qr, cr, \n",
    "        aliceMeasurementChoices[i], \n",
    "        bobMeasurementChoices[i]\n",
    "    )\n",
    "    \n",
    "    \n",
    "    circuit.compose(measurement_circuit, inplace=True)\n",
    "    # Add circuit to the list\n",
    "    circuits.append((circuit))"
   ]
  },
  {
   "cell_type": "code",
   "execution_count": 7,
   "metadata": {},
   "outputs": [
    {
     "data": {
      "text/plain": [
       "{'0001': 1}"
      ]
     },
     "execution_count": 7,
     "metadata": {},
     "output_type": "execute_result"
    }
   ],
   "source": [
    "sampler = StatevectorSampler()\n",
    "job = sampler.run(circuits,shots=1)\n",
    "result = job.result()\n",
    "counts = result[0].data.cr.get_counts()\n",
    "counts"
   ]
  },
  {
   "cell_type": "code",
   "execution_count": 8,
   "metadata": {},
   "outputs": [
    {
     "data": {
      "text/plain": [
       "'0001'"
      ]
     },
     "execution_count": 8,
     "metadata": {},
     "output_type": "execute_result"
    }
   ],
   "source": [
    "list(counts.keys())[0]"
   ]
  },
  {
   "cell_type": "code",
   "execution_count": 9,
   "metadata": {},
   "outputs": [],
   "source": [
    "abPatterns = [\n",
    "    re.compile('..00$'), # search for the '..00' output (Alice obtained -1 and Bob obtained -1)\n",
    "    re.compile('..01$'), # search for the '..01' output\n",
    "    re.compile('..10$'), # search for the '..10' output (Alice obtained -1 and Bob obtained 1)\n",
    "    re.compile('..11$')  # search for the '..11' output\n",
    "]"
   ]
  },
  {
   "cell_type": "code",
   "execution_count": 10,
   "metadata": {},
   "outputs": [],
   "source": [
    "aliceResults = [] # Alice's results (string a)\n",
    "bobResults = [] # Bob's results (string a')\n",
    "\n",
    "for i in range(numberOfSinglets):\n",
    "\n",
    "    res = list(result[i].data.cr.get_counts().keys())[0] \n",
    "    \n",
    "    if abPatterns[0].search(res): \n",
    "        aliceResults.append(-1) \n",
    "        bobResults.append(-1) \n",
    "    if abPatterns[1].search(res):\n",
    "        aliceResults.append(1)\n",
    "        bobResults.append(-1)\n",
    "    if abPatterns[2].search(res): \n",
    "        aliceResults.append(-1) \n",
    "        bobResults.append(1) \n",
    "    if abPatterns[3].search(res): \n",
    "        aliceResults.append(1)\n",
    "        bobResults.append(1)"
   ]
  },
  {
   "cell_type": "code",
   "execution_count": 11,
   "metadata": {},
   "outputs": [],
   "source": [
    "aliceKey = [] # Alice's key string k\n",
    "bobKey = [] # Bob's key string k'\n",
    "\n",
    "# comparing the stings with measurement choices\n",
    "for i in range(numberOfSinglets):\n",
    "   \n",
    "    if (aliceMeasurementChoices[i] == 2 and bobMeasurementChoices[i] == 1) or (aliceMeasurementChoices[i] == 3 and bobMeasurementChoices[i] == 2):\n",
    "        aliceKey.append(aliceResults[i]) \n",
    "        bobKey.append(- bobResults[i])\n",
    "        \n",
    "keyLength = len(aliceKey)"
   ]
  },
  {
   "cell_type": "code",
   "execution_count": 12,
   "metadata": {},
   "outputs": [],
   "source": [
    "abKeyMismatches = 0 \n",
    "for j in range(keyLength):\n",
    "    if aliceKey[j] != bobKey[j]:\n",
    "        abKeyMismatches += 1"
   ]
  },
  {
   "cell_type": "code",
   "execution_count": 13,
   "metadata": {},
   "outputs": [],
   "source": [
    "# function that calculates CHSH correlation value\n",
    "def chsh_corr(result):\n",
    "    \n",
    "    # lists with the counts of measurement results\n",
    "    # each element represents the number of (-1,-1), (-1,1), (1,-1) and (1,1) results respectively\n",
    "    countA1B1 = [0, 0, 0, 0] # XW observable\n",
    "    countA1B3 = [0, 0, 0, 0] # XV observable\n",
    "    countA3B1 = [0, 0, 0, 0] # ZW observable\n",
    "    countA3B3 = [0, 0, 0, 0] # ZV observable\n",
    "\n",
    "    for i in range(numberOfSinglets):\n",
    "\n",
    "        res = list(result[i].data.cr.get_counts().keys())[0]\n",
    "\n",
    "        # if the spins of the qubits of the i-th singlet were projected onto the a_1/b_1 directions\n",
    "        if (aliceMeasurementChoices[i] == 1 and bobMeasurementChoices[i] == 1):\n",
    "            for j in range(4):\n",
    "                if abPatterns[j].search(res):\n",
    "                    countA1B1[j] += 1\n",
    "\n",
    "        if (aliceMeasurementChoices[i] == 1 and bobMeasurementChoices[i] == 3):\n",
    "            for j in range(4):\n",
    "                if abPatterns[j].search(res):\n",
    "                    countA1B3[j] += 1\n",
    "\n",
    "        if (aliceMeasurementChoices[i] == 3 and bobMeasurementChoices[i] == 1):\n",
    "            for j in range(4):\n",
    "                if abPatterns[j].search(res):\n",
    "                    countA3B1[j] += 1\n",
    "                    \n",
    "        # if the spins of the qubits of the i-th singlet were projected onto the a_3/b_3 directions\n",
    "        if (aliceMeasurementChoices[i] == 3 and bobMeasurementChoices[i] == 3):\n",
    "            for j in range(4):\n",
    "                if abPatterns[j].search(res):\n",
    "                    countA3B3[j] += 1\n",
    "                    \n",
    "    # number of the results obtained from the measurements in a particular basis\n",
    "    total11 = sum(countA1B1)\n",
    "    total13 = sum(countA1B3)\n",
    "    total31 = sum(countA3B1)\n",
    "    total33 = sum(countA3B3)      \n",
    "                    \n",
    "    # expectation values of XW, XV, ZW and ZV observables (2)\n",
    "    expect11 = (countA1B1[0] - countA1B1[1] - countA1B1[2] + countA1B1[3])/total11 # -1/sqrt(2)\n",
    "    expect13 = (countA1B3[0] - countA1B3[1] - countA1B3[2] + countA1B3[3])/total13 # 1/sqrt(2)\n",
    "    expect31 = (countA3B1[0] - countA3B1[1] - countA3B1[2] + countA3B1[3])/total31 # -1/sqrt(2)\n",
    "    expect33 = (countA3B3[0] - countA3B3[1] - countA3B3[2] + countA3B3[3])/total33 # -1/sqrt(2) \n",
    "    \n",
    "    corr = expect11 - expect13 + expect31 + expect33 # calculate the CHSC correlation value (3)\n",
    "    \n",
    "    return corr"
   ]
  },
  {
   "cell_type": "code",
   "execution_count": 14,
   "metadata": {},
   "outputs": [
    {
     "name": "stdout",
     "output_type": "stream",
     "text": [
      "CHSH correlation value: -3.333\n",
      "Length of the key: 1\n",
      "Number of mismatching bits: 0\n",
      "\n"
     ]
    }
   ],
   "source": [
    "corr = chsh_corr(result) # CHSH correlation value\n",
    "\n",
    "# CHSH inequality test -2root(2) = -2.828\n",
    "print('CHSH correlation value: ' + str(round(corr, 3)))\n",
    "\n",
    "# Keys\n",
    "print('Length of the key: ' + str(keyLength))\n",
    "print('Number of mismatching bits: ' + str(abKeyMismatches) + '\\n')"
   ]
  },
  {
   "cell_type": "markdown",
   "metadata": {},
   "source": [
    "# Now if eve is eavesdropping"
   ]
  },
  {
   "cell_type": "code",
   "execution_count": 15,
   "metadata": {},
   "outputs": [],
   "source": [
    "def create_measurement_circuit(qr, cr, alice_choice, bob_choice, eve_choices):\n",
    "    circuit = QuantumCircuit(qr, cr)\n",
    "    \n",
    "    if eve_choices[0] == 2:  # measureEA2\n",
    "        circuit.s(qr[0])\n",
    "        circuit.h(qr[0])\n",
    "        circuit.t(qr[0])\n",
    "        circuit.h(qr[0])\n",
    "        circuit.measure(qr[0], cr[2])\n",
    "    elif eve_choices[0] == 3:  # measureEA3\n",
    "        circuit.measure(qr[0], cr[2])\n",
    "        \n",
    "    \n",
    "    if eve_choices[1] == 1:  # measureEB1\n",
    "        circuit.s(qr[1])\n",
    "        circuit.h(qr[1])\n",
    "        circuit.t(qr[1])\n",
    "        circuit.h(qr[1])\n",
    "        circuit.measure(qr[1], cr[3])\n",
    "    elif eve_choices[1] == 2:  # measureEB2\n",
    "        circuit.measure(qr[1], cr[3])\n",
    "    \n",
    "   # Implement Alice's measurement based on random choice\n",
    "    if alice_choice == 1:  # measureA1\n",
    "        circuit.h(qr[0])\n",
    "    elif alice_choice == 2:  # measureA2\n",
    "        circuit.s(qr[0])\n",
    "        circuit.h(qr[0])\n",
    "        circuit.t(qr[0])\n",
    "        circuit.h(qr[0])\n",
    "    # alice_choice == 3 (measureA3) only needs measurement\n",
    "    \n",
    "    # Implement Bob's measurement based on random choice\n",
    "    if bob_choice == 1:  # measureB1\n",
    "        circuit.s(qr[1])\n",
    "        circuit.h(qr[1])\n",
    "        circuit.t(qr[1])\n",
    "        circuit.h(qr[1])\n",
    "    elif bob_choice == 3:  # measureB3\n",
    "        circuit.s(qr[1])\n",
    "        circuit.h(qr[1])\n",
    "        circuit.tdg(qr[1])\n",
    "        circuit.h(qr[1])\n",
    "    # bob_choice == 2 (measureB2) only needs measurement\n",
    "    \n",
    "    # Add measurements for both qubits\n",
    "    circuit.measure(qr[0], cr[0])\n",
    "    circuit.measure(qr[1], cr[1])\n",
    "    \n",
    "    return circuit"
   ]
  },
  {
   "cell_type": "code",
   "execution_count": 16,
   "metadata": {},
   "outputs": [],
   "source": [
    "aliceMeasurementChoices = [random.randint(1, 3) for _ in range(numberOfSinglets)]\n",
    "bobMeasurementChoices = [random.randint(1, 3) for _ in range(numberOfSinglets)]\n",
    "\n",
    "# Generate Eve's measurement choices\n",
    "eveMeasurementChoices = []\n",
    "for _ in range(numberOfSinglets):\n",
    "    if random.uniform(0, 1) <= 0.5:  # WW measurement\n",
    "        eveMeasurementChoices.append([2, 1])\n",
    "    else:  # ZZ measurement\n",
    "        eveMeasurementChoices.append([3, 2])"
   ]
  },
  {
   "cell_type": "code",
   "execution_count": 17,
   "metadata": {},
   "outputs": [],
   "source": [
    "circuits = []\n",
    "for i in range(numberOfSinglets):\n",
    "    # Create the complete circuit\n",
    "    qr = QuantumRegister(2, name=\"qr\")\n",
    "    cr = ClassicalRegister(4, name=\"cr\")\n",
    "    circuitname = circuitName = str(i) + ':A' + str(aliceMeasurementChoices[i]) + '_E' + str(eveMeasurementChoices[i]) + '_B' + str(bobMeasurementChoices[i]) \n",
    "    circuit = QuantumCircuit(qr, cr, name=circuitName)\n",
    "    circuit.x(qr[0])\n",
    "    circuit.x(qr[1])\n",
    "    circuit.h(qr[0])\n",
    "    circuit.cx(qr[0],qr[1])\n",
    "    measurement_circuit = create_measurement_circuit(\n",
    "        qr, cr,\n",
    "        aliceMeasurementChoices[i],\n",
    "        bobMeasurementChoices[i],\n",
    "        eveMeasurementChoices[i]\n",
    "    )\n",
    "    \n",
    "    # Combine singlet and measurement circuits\n",
    "    circuit.compose(measurement_circuit, inplace=True)\n",
    "    circuits.append(circuit)"
   ]
  },
  {
   "cell_type": "code",
   "execution_count": 18,
   "metadata": {},
   "outputs": [],
   "source": [
    "from qiskit_aer import AerSimulator\n",
    "\n",
    "# Can't use sampler due to mid ciruit measurements\n",
    "simulator = AerSimulator()\n",
    "job = simulator.run(circuits, shots=1)\n",
    "results = job.result()\n",
    "counts = results.get_counts()"
   ]
  },
  {
   "cell_type": "code",
   "execution_count": 19,
   "metadata": {},
   "outputs": [
    {
     "data": {
      "text/plain": [
       "[{'1011': 1},\n",
       " {'1010': 1},\n",
       " {'1010': 1},\n",
       " {'1010': 1},\n",
       " {'1000': 1},\n",
       " {'1010': 1},\n",
       " {'1010': 1},\n",
       " {'0101': 1},\n",
       " {'0101': 1},\n",
       " {'1010': 1},\n",
       " {'1010': 1},\n",
       " {'1010': 1},\n",
       " {'0101': 1},\n",
       " {'0101': 1},\n",
       " {'1010': 1},\n",
       " {'1011': 1}]"
      ]
     },
     "execution_count": 19,
     "metadata": {},
     "output_type": "execute_result"
    }
   ],
   "source": [
    "counts"
   ]
  },
  {
   "cell_type": "code",
   "execution_count": 20,
   "metadata": {},
   "outputs": [],
   "source": [
    "ePatterns = [\n",
    "    re.compile('00..$'), # search for the '00..' result (Eve obtained the results -1 and -1 for Alice's and Bob's qubits)\n",
    "    re.compile('01..$'), # search for the '01..' result (Eve obtained the results 1 and -1 for Alice's and Bob's qubits)\n",
    "    re.compile('10..$'),\n",
    "    re.compile('11..$')  \n",
    "]"
   ]
  },
  {
   "cell_type": "code",
   "execution_count": 21,
   "metadata": {},
   "outputs": [],
   "source": [
    "aliceResults = [] # Alice's results (string a)\n",
    "bobResults = [] # Bob's results (string a')\n",
    "\n",
    "# list of Eve's measurement results\n",
    "# the elements in the 1-st column are the results obtaned from the measurements of Alice's qubits\n",
    "# the elements in the 2-nd column are the results obtaned from the measurements of Bob's qubits\n",
    "eveResults = [] \n",
    "\n",
    "# recording the measurement results\n",
    "for j in range(numberOfSinglets):\n",
    "    \n",
    "    res = list(results.get_counts(circuits[j]).keys())[0] \n",
    "    \n",
    "    # Alice and Bob\n",
    "    if abPatterns[0].search(res): \n",
    "        aliceResults.append(-1) \n",
    "        bobResults.append(-1) \n",
    "    if abPatterns[1].search(res):\n",
    "        aliceResults.append(1)\n",
    "        bobResults.append(-1)\n",
    "    if abPatterns[2].search(res): \n",
    "        aliceResults.append(-1) \n",
    "        bobResults.append(1) \n",
    "    if abPatterns[3].search(res): \n",
    "        aliceResults.append(1)\n",
    "        bobResults.append(1)\n",
    "\n",
    "    # Eve\n",
    "    if ePatterns[0].search(res):\n",
    "        eveResults.append([-1, -1]) \n",
    "    if ePatterns[1].search(res):\n",
    "        eveResults.append([1, -1])\n",
    "    if ePatterns[2].search(res):\n",
    "        eveResults.append([-1, 1])\n",
    "    if ePatterns[3].search(res):\n",
    "        eveResults.append([1, 1])"
   ]
  },
  {
   "cell_type": "code",
   "execution_count": 22,
   "metadata": {},
   "outputs": [],
   "source": [
    "aliceKey = [] # Alice's key string a\n",
    "bobKey = [] # Bob's key string a'\n",
    "eveKeys = [] # Eve's keys; the 1-st column is the key of Alice, and the 2-nd is the key of Bob\n",
    "\n",
    "# comparing the strings with measurement choices (b and b')\n",
    "for j in range(numberOfSinglets):\n",
    "    # if Alice and Bob measured the spin projections onto the a_2/b_1 or a_3/b_2 directions\n",
    "    if (aliceMeasurementChoices[j] == 2 and bobMeasurementChoices[j] == 1) or (aliceMeasurementChoices[j] == 3 and bobMeasurementChoices[j] == 2):  \n",
    "        aliceKey.append(aliceResults[j]) \n",
    "        bobKey.append(-bobResults[j]) \n",
    "        eveKeys.append([eveResults[j][0], -eveResults[j][1]]) \n",
    "keyLength = len(aliceKey) "
   ]
  },
  {
   "cell_type": "code",
   "execution_count": 23,
   "metadata": {},
   "outputs": [],
   "source": [
    "abKeyMismatches = 0 # number of mismatching bits in the keys of Alice and Bob\n",
    "eaKeyMismatches = 0 # number of mismatching bits in the keys of Eve and Alice\n",
    "ebKeyMismatches = 0 # number of mismatching bits in the keys of Eve and Bob\n",
    "\n",
    "for j in range(keyLength):\n",
    "    if aliceKey[j] != bobKey[j]: \n",
    "        abKeyMismatches += 1\n",
    "    if eveKeys[j][0] != aliceKey[j]:\n",
    "        eaKeyMismatches += 1\n",
    "    if eveKeys[j][1] != bobKey[j]:\n",
    "        ebKeyMismatches += 1"
   ]
  },
  {
   "cell_type": "code",
   "execution_count": 24,
   "metadata": {},
   "outputs": [],
   "source": [
    "eaKnowledge = (keyLength - eaKeyMismatches)/keyLength # Eve's knowledge of Bob's key\n",
    "ebKnowledge = (keyLength - ebKeyMismatches)/keyLength # Eve's knowledge of Alice's key"
   ]
  },
  {
   "cell_type": "code",
   "execution_count": 25,
   "metadata": {},
   "outputs": [
    {
     "data": {
      "text/plain": [
       "2.0"
      ]
     },
     "execution_count": 25,
     "metadata": {},
     "output_type": "execute_result"
    }
   ],
   "source": [
    "corr = chsh_corr(result)\n",
    "corr"
   ]
  },
  {
   "cell_type": "code",
   "execution_count": 26,
   "metadata": {},
   "outputs": [
    {
     "name": "stdout",
     "output_type": "stream",
     "text": [
      "CHSH correlation value: 2.0\n",
      "\n",
      "Length of the key: 3\n",
      "Number of mismatching bits: 0\n",
      "\n",
      "Eve's knowledge of Alice's key: 100.0 %\n",
      "Eve's knowledge of Bob's key: 100.0 %\n"
     ]
    }
   ],
   "source": [
    "# CHSH inequality test\n",
    "print('CHSH correlation value: ' + str(round(corr, 3)) + '\\n')\n",
    "\n",
    "# Keys\n",
    "print('Length of the key: ' + str(keyLength))\n",
    "print('Number of mismatching bits: ' + str(abKeyMismatches) + '\\n')\n",
    "\n",
    "print('Eve\\'s knowledge of Alice\\'s key: ' + str(round(eaKnowledge * 100, 2)) + ' %')\n",
    "print('Eve\\'s knowledge of Bob\\'s key: ' + str(round(ebKnowledge * 100, 2)) + ' %')"
   ]
  },
  {
   "cell_type": "markdown",
   "metadata": {},
   "source": [
    "# References : \n",
    "https://github.com/qiskit-community/qiskit-community-tutorials/blob/6de54e7033edc4233142caecda257ed72a6735f5/awards/teach_me_qiskit_2018/e91_qkd/e91_quantum_key_distribution_protocol.ipynb"
   ]
  }
 ],
 "metadata": {
  "kernelspec": {
   "display_name": "simqkd",
   "language": "python",
   "name": "python3"
  },
  "language_info": {
   "codemirror_mode": {
    "name": "ipython",
    "version": 3
   },
   "file_extension": ".py",
   "mimetype": "text/x-python",
   "name": "python",
   "nbconvert_exporter": "python",
   "pygments_lexer": "ipython3",
   "version": "3.12.3"
  }
 },
 "nbformat": 4,
 "nbformat_minor": 2
}
