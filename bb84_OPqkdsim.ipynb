{
 "cells": [
  {
   "cell_type": "markdown",
   "metadata": {},
   "source": [
    "# Imports"
   ]
  },
  {
   "cell_type": "code",
   "execution_count": 1,
   "metadata": {},
   "outputs": [],
   "source": [
    "from OPqkdsim.channel import *\n",
    "from OPqkdsim.measure import *\n",
    "from OPqkdsim.polarization import *\n",
    "from OPqkdsim.source import *\n",
    "from OPqkdsim.timeline import *\n",
    "from OPqkdsim.random import *"
   ]
  },
  {
   "cell_type": "code",
   "execution_count": 2,
   "metadata": {},
   "outputs": [],
   "source": [
    "# Initialize Timeline\n",
    "\n",
    "timeline = Timeline()\n",
    "shots=10\n",
    "# Define bit lists and modulation lists\n",
    "rng = CRNG(method=\"crypto\")\n",
    "alice_bit_list = rng.generate_bits(shots)\n",
    "alice_modulation_list = rng.generate_basis(shots)\n",
    "bob_modulation_list = rng.generate_basis(shots)\n",
    "bob_bit_list = [] "
   ]
  },
  {
   "cell_type": "code",
   "execution_count": 3,
   "metadata": {},
   "outputs": [],
   "source": [
    "# Initialize Alice Components\n",
    "\n",
    "laser = DFBLaser(timeline, shots=shots)\n",
    "pc1 = PolarizationController(timeline)  # Alice's polarization control\n",
    "pm1 = AlicePolarizationModulator(timeline, modulation_list=alice_modulation_list, bit_list=alice_bit_list)\n",
    "attenuator = VariableOpticalAttenuator(timeline, attenuation_dB=60)  # Attenuates to single-photon level # why 60db ?\n",
    "\n",
    "# Quantum channel\n",
    "\n",
    "channel = QuantumChannel(timeline)  \n"
   ]
  },
  {
   "cell_type": "code",
   "execution_count": 4,
   "metadata": {},
   "outputs": [],
   "source": [
    "# Initialize Bob Components\n",
    "\n",
    "pc2 = PolarizationController(timeline, compensate=True)  # Bob's first polarization control\n",
    "pm2 = BobPolarizationModulator(timeline, modulation_list=bob_modulation_list)\n",
    "pc3 = PolarizationController(timeline)  # Final polarization correction\n",
    "\n",
    "# Create Detectors\n",
    "\n",
    "detector_HV = SinglePhotonDetector(timeline, name=\"Detector_H\", bit_list=bob_bit_list)\n",
    "#detector_V = SinglePhotonDetector(timeline, name=\"Detector_V\", bit_list=bob_bit_list)\n",
    "detector_D = SinglePhotonDetector(timeline, name=\"Detector_D+\", bit_list=bob_bit_list)\n",
    "#detector_D_minus = SinglePhotonDetector(timeline, name=\"Detector_D-\", bit_list=bob_bit_list)\n",
    "\n",
    "# Create PBS\n",
    "\n",
    "pbs = PolarizationBeamSplitter(timeline, detector_HV, detector_D, bob_modulation_list)\n"
   ]
  },
  {
   "cell_type": "code",
   "execution_count": 5,
   "metadata": {},
   "outputs": [],
   "source": [
    "# Connect Components Using Timeline’s Publish-Subscribe Model\n",
    "\n",
    "timeline.subscribe(laser, pc1.process_signal)\n",
    "timeline.subscribe(pc1, pm1.process_signal)\n",
    "timeline.subscribe(pm1, attenuator.process_signal)\n",
    "timeline.subscribe(attenuator, channel.propagate_signal)\n",
    "timeline.subscribe(channel, pc2.process_signal)\n",
    "timeline.subscribe(pc2, pm2.process_signal)\n",
    "timeline.subscribe(pm2, pc3.process_signal)\n",
    "timeline.subscribe(pc3, pbs.process_signal)\n",
    "timeline.subscribe(pbs, detector_HV.detect_photon)\n",
    "timeline.subscribe(pbs, detector_D.detect_photon)"
   ]
  },
  {
   "cell_type": "code",
   "execution_count": 6,
   "metadata": {},
   "outputs": [
    {
     "name": "stdout",
     "output_type": "stream",
     "text": [
      "[1.74034e+09 s] Pulse emitted at 1.55e-06 m, Power: 1.20000e-07 W, Shots left:10\n",
      "[1.74034e+09 s] Pulse emitted at 1.55e-06 m, Power: 1.20000e-07 W, Shots left:9\n",
      "[1.74034e+09 s] Polarization Adjusted: Ex=1.09631e-05, Ey=4.44409e-08\n",
      "[1.74034e+09 s] Pulse emitted at 1.55e-06 m, Power: 1.20000e-07 W, Shots left:8\n",
      "[1.74034e+09 s] Polarization Adjusted: Ex=1.09631e-05, Ey=4.44409e-08\n",
      "[1.74034e+09 s] Phase Modulated: Basis=1, Bit=0, φ=1.57080 rad\n",
      "[1.74034e+09 s] Pulse emitted at 1.55e-06 m, Power: 1.20000e-07 W, Shots left:7\n",
      "[1.74034e+09 s] Polarization Adjusted: Ex=1.09631e-05, Ey=4.44409e-08\n",
      "[1.74034e+09 s] Phase Modulated: Basis=0, Bit=1, φ=3.14159 rad\n",
      "[1.74034e+09 s] VOA applied 60.00000 dB attenuation. New Power: 1.20000e-13 W\n",
      "[1.74034e+09 s] Pulse emitted at 1.55e-06 m, Power: 1.20000e-07 W, Shots left:6\n",
      "[1.74034e+09 s] Polarization Adjusted: Ex=1.09631e-05, Ey=4.44409e-08\n",
      "[1.74034e+09 s] Phase Modulated: Basis=1, Bit=1, φ=-1.57080 rad\n",
      "[1.74034e+09 s] VOA applied 60.00000 dB attenuation. New Power: 1.20000e-13 W\n",
      "[1.740e+09 s] Signal propagated: P_out=4.50e-51 W\n",
      "[1.74034e+09 s] Pulse emitted at 1.55e-06 m, Power: 1.20000e-07 W, Shots left:5\n",
      "[1.74034e+09 s] Polarization Adjusted: Ex=1.09631e-05, Ey=4.44409e-08\n",
      "[1.74034e+09 s] Phase Modulated: Basis=1, Bit=1, φ=-1.57080 rad\n",
      "[1.74034e+09 s] VOA applied 60.00000 dB attenuation. New Power: 1.20000e-13 W\n",
      "[1.740e+09 s] Signal propagated: P_out=1.20e-18 W\n",
      "[1.74034e+09 s] Polarization Adjusted: Ex=2.12310e-27, Ey=-2.11525e-30\n",
      "[1.74034e+09 s] Pulse emitted at 1.55e-06 m, Power: 1.20000e-07 W, Shots left:4\n",
      "[1.74034e+09 s] Polarization Adjusted: Ex=1.09631e-05, Ey=4.44409e-08\n",
      "[1.74034e+09 s] Phase Modulated: Basis=1, Bit=1, φ=-1.57080 rad\n",
      "[1.74034e+09 s] VOA applied 60.00000 dB attenuation. New Power: 1.20000e-13 W\n",
      "[1.740e+09 s] Signal propagated: P_out=4.50e-51 W\n",
      "[1.74034e+09 s] Polarization Adjusted: Ex=-3.46729e-11, Ey=3.45447e-14\n",
      "[1.74034e+09 s] Basis: 1, Applied Phase Shift: 0.78540 rad\n",
      "[1.74034e+09 s] Pulse emitted at 1.55e-06 m, Power: 1.20000e-07 W, Shots left:3\n",
      "[1.74034e+09 s] Polarization Adjusted: Ex=1.09631e-05, Ey=4.44409e-08\n",
      "[1.74034e+09 s] Phase Modulated: Basis=0, Bit=0, φ=0.00000 rad\n",
      "[1.74034e+09 s] VOA applied 60.00000 dB attenuation. New Power: 1.20000e-13 W\n",
      "[1.740e+09 s] Signal propagated: P_out=4.50e-51 W\n",
      "[1.74034e+09 s] Polarization Adjusted: Ex=2.12310e-27, Ey=-2.11525e-30\n",
      "[1.74034e+09 s] Basis: 0, Applied Phase Shift: 0.00000 rad\n",
      "[1.74034e+09 s] Polarization Adjusted: Ex=2.12195e-27, Ey=-2.11410e-30\n",
      "[1.74034e+09 s] Pulse emitted at 1.55e-06 m, Power: 1.20000e-07 W, Shots left:2\n",
      "[1.74034e+09 s] Polarization Adjusted: Ex=1.09631e-05, Ey=4.44409e-08\n",
      "[1.74034e+09 s] Phase Modulated: Basis=1, Bit=1, φ=-1.57080 rad\n",
      "[1.74034e+09 s] VOA applied 60.00000 dB attenuation. New Power: 1.20000e-13 W\n",
      "[1.740e+09 s] Signal propagated: P_out=4.50e-51 W\n",
      "[1.74034e+09 s] Polarization Adjusted: Ex=2.12310e-27, Ey=-2.11525e-30\n",
      "[1.74034e+09 s] Basis: 1, Applied Phase Shift: 0.78540 rad\n",
      "[1.74034e+09 s] Polarization Adjusted: Ex=-3.46541e-11, Ey=3.45259e-14\n",
      "[1.740e+09 s] PBS Output - P_D+: 2.25e-51 W, P_D-: 2.25e-51 W\n",
      "[1.74034e+09 s] Pulse emitted at 1.55e-06 m, Power: 1.20000e-07 W, Shots left:1\n",
      "[1.74034e+09 s] Polarization Adjusted: Ex=1.09631e-05, Ey=4.44409e-08\n",
      "[1.74034e+09 s] Phase Modulated: Basis=0, Bit=0, φ=0.00000 rad\n",
      "[1.74034e+09 s] VOA applied 60.00000 dB attenuation. New Power: 1.20000e-13 W\n",
      "[1.740e+09 s] Signal propagated: P_out=1.20e-18 W\n",
      "[1.74034e+09 s] Polarization Adjusted: Ex=2.12310e-27, Ey=-2.11525e-30\n",
      "[1.74034e+09 s] Basis: 1, Applied Phase Shift: 0.78540 rad\n",
      "[1.74034e+09 s] Polarization Adjusted: Ex=2.12195e-27, Ey=-2.11410e-30\n",
      "[1.740e+09 s] PBS Output - Basis: 0, P_H: 1.20e-18 W, P_V: 1.19e-27 W\n",
      "[1740336407.159831524 s] Detector_D+: Photon missed. Pclick 0.0317 random 0.23332155561863532\n",
      "[1.74034e+09 s] Polarization Adjusted: Ex=1.09631e-05, Ey=4.44409e-08\n",
      "[1.74034e+09 s] Phase Modulated: Basis=0, Bit=1, φ=3.14159 rad\n",
      "[1.74034e+09 s] VOA applied 60.00000 dB attenuation. New Power: 1.20000e-13 W\n",
      "[1.740e+09 s] Signal propagated: P_out=4.50e-51 W\n",
      "[1.74034e+09 s] Polarization Adjusted: Ex=3.46729e-11, Ey=-3.45447e-14\n",
      "[1.74034e+09 s] Basis: 0, Applied Phase Shift: 0.00000 rad\n",
      "[1.74034e+09 s] Polarization Adjusted: Ex=2.12195e-27, Ey=-2.11410e-30\n",
      "[1.740e+09 s] PBS Output - P_D+: 2.25e-51 W, P_D-: 2.25e-51 W\n",
      "[1740336407.482944727 s] Detector_H: Photon missed. Pclick 0.6437823371136924 random 0.7411501031539278\n",
      "[1.74034e+09 s] Phase Modulated: Basis=1, Bit=1, φ=-1.57080 rad\n",
      "[1.74034e+09 s] VOA applied 60.00000 dB attenuation. New Power: 1.20000e-13 W\n",
      "[1.740e+09 s] Signal propagated: P_out=1.20e-18 W\n",
      "[1.74034e+09 s] Polarization Adjusted: Ex=2.12310e-27, Ey=-2.11525e-30\n",
      "[1.74034e+09 s] Basis: 1, Applied Phase Shift: 0.78540 rad\n",
      "[1.74034e+09 s] Polarization Adjusted: Ex=2.12195e-27, Ey=-2.11410e-30\n",
      "[1.740e+09 s] PBS Output - P_D+: 2.25e-51 W, P_D-: 2.25e-51 W\n",
      "[1740336407.804705858 s] Detector_D+: Photon missed. Pclick 0.0317 random 0.2673543951258929\n",
      "[1.74034e+09 s] VOA applied 60.00000 dB attenuation. New Power: 1.20000e-13 W\n",
      "[1.740e+09 s] Signal propagated: P_out=1.20e-18 W\n",
      "[1.74034e+09 s] Polarization Adjusted: Ex=3.46729e-11, Ey=-3.45447e-14\n",
      "[1.74034e+09 s] Basis: 1, Applied Phase Shift: 0.78540 rad\n",
      "[1.74034e+09 s] Polarization Adjusted: Ex=3.46541e-11, Ey=-3.45259e-14\n",
      "[1.740e+09 s] PBS Output - Basis: 0, P_H: 4.50e-51 W, P_V: 4.47e-60 W\n",
      "[1740336408.145476341 s] Detector_D+: Photon detected! Pclick 0.6437823371136924 random 0.3518403885998739\n",
      "[1.740e+09 s] Signal propagated: P_out=4.50e-51 W\n",
      "[1.74034e+09 s] Polarization Adjusted: Ex=-3.46729e-11, Ey=3.45447e-14\n",
      "[1.74034e+09 s] Basis: 0, Applied Phase Shift: 0.00000 rad\n",
      "[1.74034e+09 s] Polarization Adjusted: Ex=2.12195e-27, Ey=-2.11410e-30\n",
      "[1.740e+09 s] PBS Output - P_D+: 6.00e-19 W, P_D-: 6.00e-19 W\n",
      "[1740336408.484562159 s] Detector_H: Photon missed. Pclick 0.0317 random 0.9505599135938647\n",
      "[1.74034e+09 s] Polarization Adjusted: Ex=2.12310e-27, Ey=-2.11525e-30\n",
      "[1.74034e+09 s] Basis: 1, Applied Phase Shift: 0.78540 rad\n",
      "[1.74034e+09 s] Polarization Adjusted: Ex=3.46541e-11, Ey=-3.45259e-14\n",
      "[1.740e+09 s] PBS Output - P_D+: 2.25e-51 W, P_D-: 2.25e-51 W\n",
      "[1740336408.485645771 s] Detector_D+: Photon missed. Pclick 0.03166356595359202 random 0.26557847987143635\n",
      "[1.74034e+09 s] Basis: 1, Applied Phase Shift: 0.78540 rad\n",
      "[1.74034e+09 s] Polarization Adjusted: Ex=-3.46541e-11, Ey=3.45259e-14\n",
      "[1.740e+09 s] PBS Output - Basis: 0, P_H: 1.20e-18 W, P_V: 1.19e-27 W\n",
      "[1740336408.486703634 s] Detector_D+: Photon detected! Pclick 0.6437689337770601 random 0.4263561450340324\n",
      "[1.74034e+09 s] Polarization Adjusted: Ex=2.12195e-27, Ey=-2.11410e-30\n",
      "[1.740e+09 s] PBS Output - P_D+: 6.00e-19 W, P_D-: 6.00e-19 W\n",
      "[1740336408.487824917 s] Detector_H: Photon missed. Pclick 0.0317 random 0.22002761149553685\n",
      "[1.740e+09 s] PBS Output - P_D+: 2.25e-51 W, P_D-: 2.25e-51 W\n",
      "[1740336408.488884449 s] Detector_D+: Photon missed. Pclick 0.03162717378225463 random 0.3549819926908637\n",
      "[1740336408.489883661 s] Detector_D+: Photon missed. Pclick 0.03162717378225463 random 0.05108055235483433\n"
     ]
    }
   ],
   "source": [
    "# Start Simulation by Emitting Light from the Laser\n",
    "laser.initialize_laser()\n",
    "timeline.execute_events()"
   ]
  },
  {
   "cell_type": "code",
   "execution_count": 7,
   "metadata": {},
   "outputs": [
    {
     "name": "stdout",
     "output_type": "stream",
     "text": [
      "\n",
      "--- BB84 Protocol Results ---\n",
      "Alice's Bits: [0, 1, 1, 1, 1, 0, 1, 0, 1, 1]\n",
      "Alice's Bases: [1, 0, 1, 1, 1, 0, 1, 0, 0, 1]\n",
      "Bob's Bases: [1, 0, 1, 1, 0, 1, 1, 0, 1, 1]\n",
      "Bob's Received Bits: [0, 0, 0, 1, 0, 0, 1, 0, 0, 0]\n",
      "Final Key (Matching Basis): [0, 1, 1, 1, 1, 0, 1]\n"
     ]
    }
   ],
   "source": [
    "matching_bits = []\n",
    "for alice_basis, bob_basis, alice_bit, bob_bit in zip(alice_modulation_list, bob_modulation_list, alice_bit_list, bob_bit_list):\n",
    "    if alice_basis == bob_basis:  # Matching bases\n",
    "        matching_bits.append(alice_bit)\n",
    "\n",
    "# Display Results\n",
    "print(\"\\n--- BB84 Protocol Results ---\")\n",
    "print(f\"Alice's Bits: {alice_bit_list}\")\n",
    "print(f\"Alice's Bases: {alice_modulation_list}\")\n",
    "print(f\"Bob's Bases: {bob_modulation_list}\")\n",
    "print(f\"Bob's Received Bits: {bob_bit_list}\")\n",
    "print(f\"Final Key (Matching Basis): {matching_bits}\")"
   ]
  }
 ],
 "metadata": {
  "kernelspec": {
   "display_name": "simqkd",
   "language": "python",
   "name": "python3"
  },
  "language_info": {
   "codemirror_mode": {
    "name": "ipython",
    "version": 3
   },
   "file_extension": ".py",
   "mimetype": "text/x-python",
   "name": "python",
   "nbconvert_exporter": "python",
   "pygments_lexer": "ipython3",
   "version": "3.12.3"
  }
 },
 "nbformat": 4,
 "nbformat_minor": 2
}
