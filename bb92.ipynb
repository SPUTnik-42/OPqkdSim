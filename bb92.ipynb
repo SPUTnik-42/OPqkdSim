{
 "cells": [
  {
   "cell_type": "code",
   "execution_count": 1,
   "metadata": {},
   "outputs": [
    {
     "data": {
      "text/plain": [
       "'1.3.2'"
      ]
     },
     "execution_count": 1,
     "metadata": {},
     "output_type": "execute_result"
    }
   ],
   "source": [
    "import qiskit\n",
    "qiskit.__version__"
   ]
  },
  {
   "cell_type": "code",
   "execution_count": 2,
   "metadata": {},
   "outputs": [],
   "source": [
    "import numpy as np\n",
    "from qiskit import QuantumCircuit, ClassicalRegister, QuantumRegister\n",
    "from qiskit.primitives import StatevectorSampler\n",
    "import matplotlib.pyplot as plt\n",
    "from qiskit.visualization import plot_histogram"
   ]
  },
  {
   "cell_type": "code",
   "execution_count": 3,
   "metadata": {},
   "outputs": [],
   "source": [
    "#step 1 : generate alice's key and basis\n",
    "\n",
    "n = 16 # number of qubits\n",
    "alice_key = np.random.randint(0, high=2**n) # generates a random number between 0 and 2^n(here 2^16)\n",
    "alice_key = np.binary_repr(alice_key, n) # converts the random number to binary exactly 16 digits long"
   ]
  },
  {
   "cell_type": "code",
   "execution_count": 4,
   "metadata": {},
   "outputs": [],
   "source": [
    "#step 2: encode alice's key according to the basis into the circuit, if the key has 0 bit then use computational basis and if \n",
    "# if it has 1 use the diagonal basis\n",
    "\n",
    "qr = QuantumRegister(n, name='qr')\n",
    "cr = ClassicalRegister(n, name='cr')\n",
    "bb92 = QuantumCircuit(qr, cr, name='bb92')\n",
    "\n",
    "# since ibm has intializes all qubits as |0> as default we will apply x gate to change it to |1> is the key has 1\n",
    "for index, digit in enumerate(alice_key):\n",
    "    if digit == '1':\n",
    "        bb92.x(qr[index])\n",
    "        bb92.h(qr[index])"
   ]
  },
  {
   "cell_type": "markdown",
   "metadata": {},
   "source": [
    "Now, since we don't have another quantum computer for simplicity, we will assume that bob measures at states at the end with his own random basis without knowing the previous states or qubits or alice's keys and basis. "
   ]
  },
  {
   "cell_type": "code",
   "execution_count": 5,
   "metadata": {},
   "outputs": [],
   "source": [
    "#step 3: generate bob's basis\n",
    "bob_basis = np.random.randint(2, size=n) # generates n size array of 0 or 1 (basically computational and diagonal basis resp.)"
   ]
  },
  {
   "cell_type": "code",
   "execution_count": 6,
   "metadata": {},
   "outputs": [],
   "source": [
    "#step 4: bob will measure the circuit at the end with his own basis states\n",
    "# we apply the hadamard gate for diagonal basis if the basis indicates (i.e 1 )\n",
    "for index in range(len(qr)):       \n",
    "    if bob_basis[index] == 1:   \n",
    "        bb92.h(qr[index])\n",
    "\n",
    "#measure all qubits\n",
    "bb92.measure_all()"
   ]
  },
  {
   "cell_type": "code",
   "execution_count": 7,
   "metadata": {},
   "outputs": [],
   "source": [
    "sampler = StatevectorSampler()\n",
    "\n",
    "job = sampler.run([bb92],shots=1)\n",
    "result = job.result()\n",
    "counts = result[0].data.meas.get_counts()"
   ]
  },
  {
   "cell_type": "code",
   "execution_count": 8,
   "metadata": {},
   "outputs": [
    {
     "name": "stdout",
     "output_type": "stream",
     "text": [
      "alice_key:  0110010111100101\n",
      "bob_key:  0010010001101101\n",
      "bob_basis:  [0 0 1 0 0 1 0 0 0 0 1 0 1 0 1 1]\n"
     ]
    }
   ],
   "source": [
    "# Result of the measure is Bob's key candidate\n",
    "bob_key = list(counts)[0]\n",
    "bob_key = bob_key[::-1]\n",
    "\n",
    "print(\"alice_key: \", alice_key)\n",
    "#print(\"alice_basis: \", alice_basis)\n",
    "print(\"bob_key: \",bob_key)\n",
    "print(\"bob_basis: \", bob_basis)"
   ]
  },
  {
   "cell_type": "code",
   "execution_count": 9,
   "metadata": {},
   "outputs": [
    {
     "name": "stdout",
     "output_type": "stream",
     "text": [
      "Same choice for qubit: 0, basis: 0\n",
      "Different choice for qubit: 1, Alice has 1, Bob has 0\n",
      "Same choice for qubit: 2, basis: 1\n",
      "Same choice for qubit: 3, basis: 0\n",
      "Same choice for qubit: 4, basis: 0\n",
      "Same choice for qubit: 5, basis: 1\n",
      "Same choice for qubit: 6, basis: 0\n",
      "Different choice for qubit: 7, Alice has 1, Bob has 0\n",
      "Different choice for qubit: 8, Alice has 1, Bob has 0\n",
      "Different choice for qubit: 9, Alice has 1, Bob has 0\n",
      "Same choice for qubit: 10, basis: 1\n",
      "Same choice for qubit: 11, basis: 0\n",
      "Different choice for qubit: 12, Alice has 0, Bob has 1\n",
      "Different choice for qubit: 13, Alice has 1, Bob has 0\n",
      "Different choice for qubit: 14, Alice has 0, Bob has 1\n",
      "Same choice for qubit: 15, basis: 1\n"
     ]
    }
   ],
   "source": [
    "#step 5: classical post-processing\n",
    "\n",
    "keep = []\n",
    "discard = []\n",
    "#for qubit, basis in enumerate(zip(alice_basis, bob_basis)):\n",
    "for qubit, basis in enumerate(zip(alice_key, bob_basis)):\n",
    "    if np.int64(basis[0]) == basis[1]:\n",
    "        print(\"Same choice for qubit: {}, basis: {}\" .format(qubit, basis[0])) \n",
    "        keep.append(qubit)\n",
    "    else:\n",
    "        print(\"Different choice for qubit: {}, Alice has {}, Bob has {}\" .format(qubit, basis[0], basis[1]))\n",
    "        #print(type(np.int64(basis[0])))\n",
    "        #print(type(basis[1]))\n",
    "        discard.append(qubit)"
   ]
  },
  {
   "cell_type": "code",
   "execution_count": 10,
   "metadata": {},
   "outputs": [
    {
     "data": {
      "text/plain": [
       "[0, 2, 3, 4, 5, 6, 10, 11, 15]"
      ]
     },
     "execution_count": 10,
     "metadata": {},
     "output_type": "execute_result"
    }
   ],
   "source": [
    "keep"
   ]
  },
  {
   "cell_type": "code",
   "execution_count": 11,
   "metadata": {},
   "outputs": [
    {
     "name": "stdout",
     "output_type": "stream",
     "text": [
      "Percentage of qubits to be discarded according to table comparison:  0.5625\n",
      "Measurement convergence by additional chance:  0.75\n"
     ]
    }
   ],
   "source": [
    "acc = 0\n",
    "for bit in zip(alice_key, bob_key):\n",
    "    if bit[0] == bit[1]:\n",
    "        acc += 1\n",
    "\n",
    "print('Percentage of qubits to be discarded according to table comparison: ', len(keep)/n)\n",
    "print('Measurement convergence by additional chance: ', acc/n) "
   ]
  },
  {
   "cell_type": "code",
   "execution_count": 14,
   "metadata": {},
   "outputs": [
    {
     "name": "stdout",
     "output_type": "stream",
     "text": [
      "['0', '1', '0', '0', '1', '0', '1', '0', '1']\n",
      "['0', '1', '0', '0', '1', '0', '1', '0', '1']\n",
      "Percentage of similarity between the keys:  1.0\n"
     ]
    }
   ],
   "source": [
    "new_alice_key = [alice_key[qubit] for qubit in keep]\n",
    "new_bob_key = [bob_key[qubit] for qubit in keep]\n",
    "\n",
    "acc = 0\n",
    "for bit in zip(new_alice_key, new_bob_key):\n",
    "    if bit[0] == bit[1]:\n",
    "        acc += 1        \n",
    "\n",
    "print(new_alice_key)\n",
    "print(new_bob_key)\n",
    "print('Percentage of similarity between the keys: ', acc/len(new_alice_key))              "
   ]
  },
  {
   "cell_type": "markdown",
   "metadata": {},
   "source": [
    "# Now for the case when there is an EVE eavesdropping"
   ]
  },
  {
   "cell_type": "code",
   "execution_count": 15,
   "metadata": {},
   "outputs": [],
   "source": [
    "#step 1 : generate alice's key and basis\n",
    "\n",
    "n = 16 # number of qubits\n",
    "alice_key = np.random.randint(0, high=2**n) # generates a random number between 0 and 2^n(here 2^16)\n",
    "alice_key = np.binary_repr(alice_key, n) # converts the random number to binary exactly 16 digits long\n",
    "\n",
    "\n",
    "#step 2: encode alice's key according to the basis into the circuit\n",
    "\n",
    "qr = QuantumRegister(n, name='qr')\n",
    "cr = ClassicalRegister(n, name='cr')\n",
    "evebb92 = QuantumCircuit(qr, cr, name='evebb92')\n",
    "\n",
    "# since ibm has intializes all qubits as |0> as default we will apply x gate to change it to |1> is the key has 1\n",
    "for index, digit in enumerate(alice_key):\n",
    "    if digit == '1':\n",
    "        evebb92.x(qr[index])\n",
    "        evebb92.h(qr[index])\n",
    "\n",
    "\n",
    "#step 3: generate eve's basis\n",
    "eve_basis = np.random.randint(2, size=n) # generates n size array of 0 or 1 (basically computational and diagonal basis resp.)\n",
    "\n",
    "#step 4: bob will measure the circuit at the end with his own basis states\n",
    "# we apply the hadamard gate for diagonal basis if the basis indicates (i.e 1 )\n",
    "for index in range(len(qr)):       \n",
    "    if bob_basis[index] == 1:   \n",
    "        evebb92.h(qr[index])\n",
    "\n",
    "#measure all qubits\n",
    "evebb92.measure_all()\n",
    "\n",
    "sampler = StatevectorSampler()\n",
    "\n",
    "job = sampler.run([evebb92],shots=1)\n",
    "result = job.result()\n",
    "counts = result[0].data.meas.get_counts()\n",
    "\n",
    "# Result of the measure is eve's key candidate\n",
    "eve_key = list(counts)[0]\n",
    "eve_key = eve_key[::-1]"
   ]
  },
  {
   "cell_type": "markdown",
   "metadata": {},
   "source": [
    "up untill now eve has been playing the role of bob to fool alice, now she has to send these qubits to bob, acting like alice.Eve has measured the state causing qubits to collapse in different eigenstates. This property is not easy to implement in qiskit because measurement results are stored in classical registers, while the qubits themselves are \"unchanged\". Therefore we need to update Eve's qubits to the new altered states starting from the results of the measures (Eve's key), reversing the instructions that Eve has executed."
   ]
  },
  {
   "cell_type": "code",
   "execution_count": 16,
   "metadata": {},
   "outputs": [
    {
     "name": "stdout",
     "output_type": "stream",
     "text": [
      "Different choice for qubit: 0, Alice has 1, Eve has 0\n",
      "Same choice for qubit: 1, basis: 0\n",
      "Same choice for qubit: 2, basis: 1\n",
      "Same choice for qubit: 3, basis: 1\n",
      "Different choice for qubit: 4, Alice has 1, Eve has 0\n",
      "Same choice for qubit: 5, basis: 0\n",
      "Same choice for qubit: 6, basis: 1\n",
      "Same choice for qubit: 7, basis: 0\n",
      "Different choice for qubit: 8, Alice has 1, Eve has 0\n",
      "Same choice for qubit: 9, basis: 0\n",
      "Same choice for qubit: 10, basis: 1\n",
      "Same choice for qubit: 11, basis: 0\n",
      "Same choice for qubit: 12, basis: 0\n",
      "Same choice for qubit: 13, basis: 1\n",
      "Different choice for qubit: 14, Alice has 0, Eve has 1\n",
      "Same choice for qubit: 15, basis: 1\n"
     ]
    }
   ],
   "source": [
    "qr = QuantumRegister(n, name='qr')\n",
    "cr = ClassicalRegister(n, name='cr')\n",
    "bobbb92 = QuantumCircuit(qr, cr, name='bobbb92')\n",
    "\n",
    "for qubit, basis in enumerate(zip(alice_key, eve_key)):\n",
    "    if basis[0] == basis[1]:\n",
    "        print(\"Same choice for qubit: {}, basis: {}\" .format(qubit, basis[0]))\n",
    "    else:\n",
    "        print(\"Different choice for qubit: {}, Alice has {}, Eve has {}\" .format(qubit, basis[0], basis[1]))\n",
    "        if eve_key[qubit] == alice_key[qubit]:\n",
    "            bobbb92.h(qr[qubit])\n",
    "        else:\n",
    "            if basis[0] == 0 and basis[1] == 1:\n",
    "                bobbb92.h(qr[qubit])\n",
    "                bobbb92.x(qr[qubit])\n",
    "            else:\n",
    "                bobbb92.x(qr[qubit])\n",
    "                bobbb92.h(qr[qubit])"
   ]
  },
  {
   "cell_type": "code",
   "execution_count": 18,
   "metadata": {},
   "outputs": [],
   "source": [
    "bob_basis = np.random.randint(2, size=n) \n",
    "\n",
    "for index in range(len(qr)):       \n",
    "    if bob_basis[index] == 1:   \n",
    "        bobbb92.h(qr[index])\n",
    "\n",
    "bobbb92.measure_all()\n",
    "\n",
    "sampler = StatevectorSampler()\n",
    "\n",
    "job = sampler.run([bobbb92],shots=1)\n",
    "result = job.result()\n",
    "counts = result[0].data.meas.get_counts()\n",
    "\n",
    "bob_key = list(counts)[0]\n",
    "bob_key = bob_key[::-1]"
   ]
  },
  {
   "cell_type": "code",
   "execution_count": 20,
   "metadata": {},
   "outputs": [
    {
     "name": "stdout",
     "output_type": "stream",
     "text": [
      "Same choice for qubit: 0, basis: 1\n",
      "Different choice for qubit: 1, Alice has 0, Bob has 1\n",
      "Same choice for qubit: 2, basis: 1\n",
      "Same choice for qubit: 3, basis: 1\n",
      "Different choice for qubit: 4, Alice has 1, Bob has 0\n",
      "Same choice for qubit: 5, basis: 0\n",
      "Same choice for qubit: 6, basis: 1\n",
      "Different choice for qubit: 7, Alice has 0, Bob has 1\n",
      "Same choice for qubit: 8, basis: 1\n",
      "Same choice for qubit: 9, basis: 0\n",
      "Different choice for qubit: 10, Alice has 1, Bob has 0\n",
      "Same choice for qubit: 11, basis: 0\n",
      "Same choice for qubit: 12, basis: 0\n",
      "Same choice for qubit: 13, basis: 1\n",
      "Same choice for qubit: 14, basis: 0\n",
      "Different choice for qubit: 15, Alice has 1, Bob has 0\n",
      "Percentage of qubits to be discarded according to table comparison:  0.6875\n",
      "Measurement convergence by additional chance:  0.625\n",
      "['1', '1', '1', '0', '1', '1', '0', '0', '0', '1', '0']\n",
      "['1', '1', '0', '0', '0', '1', '0', '0', '0', '1', '0']\n",
      "Percentage of similarity between the keys:  0.8181818181818182\n"
     ]
    }
   ],
   "source": [
    "keep = []\n",
    "discard = []\n",
    "for qubit, basis in enumerate(zip(alice_key, bob_basis)):\n",
    "    if np.int64(basis[0]) == basis[1]:\n",
    "        print(\"Same choice for qubit: {}, basis: {}\" .format(qubit, basis[0])) \n",
    "        keep.append(qubit)\n",
    "    else:\n",
    "        print(\"Different choice for qubit: {}, Alice has {}, Bob has {}\" .format(qubit, basis[0], basis[1]))\n",
    "        discard.append(qubit)\n",
    "\n",
    "acc = 0\n",
    "for bit in zip(alice_key, bob_key):\n",
    "    if bit[0] == bit[1]:\n",
    "        acc += 1\n",
    "\n",
    "print('Percentage of qubits to be discarded according to table comparison: ', len(keep)/n)\n",
    "print('Measurement convergence by additional chance: ', acc/n) \n",
    "\n",
    "new_alice_key = [alice_key[qubit] for qubit in keep]\n",
    "new_bob_key = [bob_key[qubit] for qubit in keep]\n",
    "\n",
    "acc = 0\n",
    "for bit in zip(new_alice_key, new_bob_key):\n",
    "    if bit[0] == bit[1]:\n",
    "        acc += 1        \n",
    "\n",
    "print(new_alice_key)\n",
    "print(new_bob_key)\n",
    "print('Percentage of similarity between the keys: ', acc/len(new_alice_key))"
   ]
  },
  {
   "cell_type": "code",
   "execution_count": 21,
   "metadata": {},
   "outputs": [
    {
     "name": "stdout",
     "output_type": "stream",
     "text": [
      "\n",
      "Key exchange has been tampered! Check for eavesdropper or try again\n",
      "New Alice's key is invalid:  ['1', '1', '1', '0', '1', '1', '0', '0', '0', '1', '0']\n",
      "New Bob's key is invalid:  ['1', '1', '0', '0', '0', '1', '0', '0', '0', '1', '0']\n"
     ]
    }
   ],
   "source": [
    "if (acc//len(new_alice_key) == 1):\n",
    "    print(\"\\nKey exchange has been successfull\")\n",
    "    print(\"New Alice's key: \", new_alice_key)\n",
    "    print(\"New Bob's key: \", new_bob_key)\n",
    "else:\n",
    "    print(\"\\nKey exchange has been tampered! Check for eavesdropper or try again\")\n",
    "    print(\"New Alice's key is invalid: \", new_alice_key)\n",
    "    print(\"New Bob's key is invalid: \", new_bob_key)"
   ]
  },
  {
   "cell_type": "markdown",
   "metadata": {},
   "source": [
    "### References: \n",
    "\n",
    "-https://github.com/qiskit-community/qiskit-community-tutorials/blob/master/awards/teach_me_qiskit_2018/cryptography/Cryptography.ipynb"
   ]
  }
 ],
 "metadata": {
  "kernelspec": {
   "display_name": "simqkd",
   "language": "python",
   "name": "python3"
  },
  "language_info": {
   "codemirror_mode": {
    "name": "ipython",
    "version": 3
   },
   "file_extension": ".py",
   "mimetype": "text/x-python",
   "name": "python",
   "nbconvert_exporter": "python",
   "pygments_lexer": "ipython3",
   "version": "3.12.3"
  }
 },
 "nbformat": 4,
 "nbformat_minor": 2
}
