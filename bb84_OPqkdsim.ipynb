{
 "cells": [
  {
   "cell_type": "markdown",
   "metadata": {},
   "source": [
    "# Imports"
   ]
  },
  {
   "cell_type": "code",
   "execution_count": 1,
   "metadata": {},
   "outputs": [],
   "source": [
    "from OPqkdsim.channel import *\n",
    "from OPqkdsim.measure import *\n",
    "from OPqkdsim.polarization import *\n",
    "from OPqkdsim.source import *\n",
    "from OPqkdsim.timeline import *\n",
    "from OPqkdsim.random import *"
   ]
  },
  {
   "cell_type": "code",
   "execution_count": 2,
   "metadata": {},
   "outputs": [],
   "source": [
    "# Initialize Timeline\n",
    "\n",
    "timeline = Timeline()\n",
    "shots=10\n",
    "# Define bit lists and modulation lists\n",
    "rng = CRNG(method=\"crypto\")\n",
    "alice_bit_list = rng.generate_bits(shots)\n",
    "alice_modulation_list = rng.generate_basis(shots)\n",
    "bob_modulation_list = rng.generate_basis(shots)\n",
    "bob_bit_list = [] "
   ]
  },
  {
   "cell_type": "code",
   "execution_count": 3,
   "metadata": {},
   "outputs": [],
   "source": [
    "# Initialize Alice Components\n",
    "\n",
    "laser = DFBLaser(timeline, shots=shots)\n",
    "pc1 = PolarizationController(timeline)  # Alice's polarization control\n",
    "pm1 = AlicePolarizationModulator(timeline, modulation_list=alice_modulation_list, bit_list=alice_bit_list)\n",
    "attenuator = VariableOpticalAttenuator(timeline, attenuation_dB=60)  # Attenuates to single-photon level # why 60db ?\n",
    "\n",
    "# Quantum channel\n",
    "\n",
    "channel = QuantumChannel(timeline)  \n"
   ]
  },
  {
   "cell_type": "code",
   "execution_count": 4,
   "metadata": {},
   "outputs": [],
   "source": [
    "# Initialize Bob Components\n",
    "\n",
    "pc2 = PolarizationController(timeline, compensate=True)  # Bob's first polarization control\n",
    "pm2 = BobPolarizationModulator(timeline, modulation_list=bob_modulation_list)\n",
    "pc3 = PolarizationController(timeline)  # Final polarization correction\n",
    "\n",
    "# Create Detectors\n",
    "\n",
    "detector_H = SinglePhotonDetector(timeline, name=\"Detector_H\", bit_list=bob_bit_list)\n",
    "detector_V = SinglePhotonDetector(timeline, name=\"Detector_V\", bit_list=bob_bit_list)\n",
    "detector_D_plus = SinglePhotonDetector(timeline, name=\"Detector_D+\", bit_list=bob_bit_list)\n",
    "detector_D_minus = SinglePhotonDetector(timeline, name=\"Detector_D-\", bit_list=bob_bit_list)\n",
    "\n",
    "# Create PBS\n",
    "\n",
    "pbs = PolarizationBeamSplitter(timeline, detector_H, detector_V, detector_D_plus, detector_D_minus, bob_modulation_list)\n"
   ]
  },
  {
   "cell_type": "code",
   "execution_count": 5,
   "metadata": {},
   "outputs": [],
   "source": [
    "# Connect Components Using Timeline’s Publish-Subscribe Model\n",
    "\n",
    "timeline.subscribe(laser, pc1.process_signal)\n",
    "timeline.subscribe(pc1, pm1.process_signal)\n",
    "timeline.subscribe(pm1, attenuator.process_signal)\n",
    "timeline.subscribe(attenuator, channel.propagate_signal)\n",
    "timeline.subscribe(channel, pc2.process_signal)\n",
    "timeline.subscribe(pc2, pm2.process_signal)\n",
    "timeline.subscribe(pm2, pc3.process_signal)\n",
    "timeline.subscribe(pc3, pbs.process_signal)\n",
    "timeline.subscribe(pbs, detector_H.detect_photon)\n",
    "timeline.subscribe(pbs, detector_V.detect_photon)\n",
    "timeline.subscribe(pbs, detector_D_plus.detect_photon)\n",
    "timeline.subscribe(pbs, detector_D_minus.detect_photon)"
   ]
  },
  {
   "cell_type": "code",
   "execution_count": 6,
   "metadata": {},
   "outputs": [
    {
     "name": "stdout",
     "output_type": "stream",
     "text": [
      "[1.74033e+09 s] Pulse emitted at 1.55e-06 m, Power: 1.20000e-07 W\n",
      "[1.74033e+09 s] Polarization Adjusted: Ex=1.09631e-05, Ey=4.44409e-08\n",
      "[1.74033e+09 s] Phase Modulated: Basis=1, Bit=1, φ=-1.57080 rad\n",
      "[1.74033e+09 s] VOA applied 60.00000 dB attenuation. New Power: 1.20000e-13 W\n",
      "[1.740e+09 s] Signal propagated: P_out=4.50e-51 W\n",
      "[1.74033e+09 s] Polarization Adjusted: Ex=2.12310e-27, Ey=-2.11525e-30\n",
      "[1.74033e+09 s] Basis: 1, Applied Phase Shift: 0.78540 rad\n",
      "[1.74033e+09 s] Polarization Adjusted: Ex=2.12195e-27, Ey=-2.11410e-30\n",
      "[1.740e+09 s] PBS Output - P_D+: 2.25e-51 W, P_D-: 2.25e-51 W\n"
     ]
    },
    {
     "ename": "IndexError",
     "evalue": "invalid index to scalar variable.",
     "output_type": "error",
     "traceback": [
      "\u001b[0;31m---------------------------------------------------------------------------\u001b[0m",
      "\u001b[0;31mIndexError\u001b[0m                                Traceback (most recent call last)",
      "Cell \u001b[0;32mIn[6], line 3\u001b[0m\n\u001b[1;32m      1\u001b[0m \u001b[38;5;66;03m# Start Simulation by Emitting Light from the Laser\u001b[39;00m\n\u001b[1;32m      2\u001b[0m laser\u001b[38;5;241m.\u001b[39minitialize_laser()\n\u001b[0;32m----> 3\u001b[0m \u001b[43mtimeline\u001b[49m\u001b[38;5;241;43m.\u001b[39;49m\u001b[43mexecute_events\u001b[49m\u001b[43m(\u001b[49m\u001b[43m)\u001b[49m\n",
      "File \u001b[0;32m~/Music/ProfKundu/qkd/OPqkdsim/timeline.py:57\u001b[0m, in \u001b[0;36mTimeline.execute_events\u001b[0;34m(self, max_events)\u001b[0m\n\u001b[1;32m     54\u001b[0m     time\u001b[38;5;241m.\u001b[39msleep(time_to_wait)  \u001b[38;5;66;03m# Real-time delay\u001b[39;00m\n\u001b[1;32m     56\u001b[0m \u001b[38;5;28mself\u001b[39m\u001b[38;5;241m.\u001b[39mcurrent_time \u001b[38;5;241m=\u001b[39m time\u001b[38;5;241m.\u001b[39mtime()  \u001b[38;5;66;03m# Update current time\u001b[39;00m\n\u001b[0;32m---> 57\u001b[0m \u001b[43mevent_function\u001b[49m\u001b[43m(\u001b[49m\u001b[38;5;28;43mself\u001b[39;49m\u001b[38;5;241;43m.\u001b[39;49m\u001b[43mcurrent_time\u001b[49m\u001b[43m,\u001b[49m\u001b[43m \u001b[49m\u001b[38;5;241;43m*\u001b[39;49m\u001b[43margs\u001b[49m\u001b[43m,\u001b[49m\u001b[43m \u001b[49m\u001b[38;5;241;43m*\u001b[39;49m\u001b[38;5;241;43m*\u001b[39;49m\u001b[43mkwargs\u001b[49m\u001b[43m)\u001b[49m  \u001b[38;5;66;03m# Execute event\u001b[39;00m\n\u001b[1;32m     58\u001b[0m event_count \u001b[38;5;241m+\u001b[39m\u001b[38;5;241m=\u001b[39m \u001b[38;5;241m1\u001b[39m\n",
      "File \u001b[0;32m~/Music/ProfKundu/qkd/OPqkdsim/measure.py:70\u001b[0m, in \u001b[0;36mSinglePhotonDetector.detect_photon\u001b[0;34m(self, event_time, power, Ex, Ey, E, background_photons)\u001b[0m\n\u001b[1;32m     68\u001b[0m \u001b[38;5;28;01mif\u001b[39;00m \u001b[38;5;28misinstance\u001b[39m(power, np\u001b[38;5;241m.\u001b[39mndarray):\n\u001b[1;32m     69\u001b[0m     power \u001b[38;5;241m=\u001b[39m power[\u001b[38;5;241m-\u001b[39m\u001b[38;5;241m1\u001b[39m]\n\u001b[0;32m---> 70\u001b[0m     E \u001b[38;5;241m=\u001b[39m \u001b[43mE\u001b[49m\u001b[43m[\u001b[49m\u001b[38;5;241;43m-\u001b[39;49m\u001b[38;5;241;43m1\u001b[39;49m\u001b[43m]\u001b[49m\n\u001b[1;32m     72\u001b[0m \u001b[38;5;28;01mif\u001b[39;00m \u001b[38;5;28misinstance\u001b[39m(Ex, np\u001b[38;5;241m.\u001b[39mndarray):\n\u001b[1;32m     73\u001b[0m     Ex \u001b[38;5;241m=\u001b[39m Ex[\u001b[38;5;241m-\u001b[39m\u001b[38;5;241m1\u001b[39m]\n",
      "\u001b[0;31mIndexError\u001b[0m: invalid index to scalar variable."
     ]
    }
   ],
   "source": [
    "# Start Simulation by Emitting Light from the Laser\n",
    "laser.initialize_laser()\n",
    "timeline.execute_events()"
   ]
  },
  {
   "cell_type": "code",
   "execution_count": null,
   "metadata": {},
   "outputs": [
    {
     "name": "stdout",
     "output_type": "stream",
     "text": [
      "\n",
      "--- BB84 Protocol Results ---\n",
      "Alice's Bits: []\n",
      "Alice's Bases: []\n",
      "Bob's Bases: []\n",
      "Bob's Received Bits: []\n",
      "Final Key (Matching Basis): []\n"
     ]
    }
   ],
   "source": [
    "matching_bits = []\n",
    "for alice_basis, bob_basis, alice_bit, bob_bit in zip(alice_modulation_list, bob_modulation_list, alice_bit_list, bob_bit_list):\n",
    "    if alice_basis == bob_basis:  # Matching bases\n",
    "        matching_bits.append(alice_bit)\n",
    "\n",
    "# Display Results\n",
    "print(\"\\n--- BB84 Protocol Results ---\")\n",
    "print(f\"Alice's Bits: {alice_bit_list}\")\n",
    "print(f\"Alice's Bases: {alice_modulation_list}\")\n",
    "print(f\"Bob's Bases: {bob_modulation_list}\")\n",
    "print(f\"Bob's Received Bits: {bob_bit_list}\")\n",
    "print(f\"Final Key (Matching Basis): {matching_bits}\")"
   ]
  }
 ],
 "metadata": {
  "kernelspec": {
   "display_name": "simqkd",
   "language": "python",
   "name": "python3"
  },
  "language_info": {
   "codemirror_mode": {
    "name": "ipython",
    "version": 3
   },
   "file_extension": ".py",
   "mimetype": "text/x-python",
   "name": "python",
   "nbconvert_exporter": "python",
   "pygments_lexer": "ipython3",
   "version": "3.12.3"
  }
 },
 "nbformat": 4,
 "nbformat_minor": 2
}
